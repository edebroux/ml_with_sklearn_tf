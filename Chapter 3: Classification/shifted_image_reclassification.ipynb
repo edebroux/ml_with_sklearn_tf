{
 "cells": [
  {
   "cell_type": "markdown",
   "metadata": {},
   "source": [
    "**Answer for chapter 3, question 2**\n",
    "\n",
    "Import the data and necessary packages to perform this analysis:"
   ]
  },
  {
   "cell_type": "code",
   "execution_count": null,
   "metadata": {},
   "outputs": [],
   "source": [
    "from sklearn.ensemble import RandomForestClassifier\n",
    "from sklearn.metrics import accuracy_score, precision_score, recall_score, f1_score\n",
    "from sklearn.preprocessing import StandardScaler\n",
    "from scipy.ndimage.interpolation import shift\n",
    "import numpy as np\n",
    "import pandas as pd\n",
    "from sklearn.datasets import fetch_openml\n",
    "\n",
    "# get the MNIST dataset & show the columns of data\n",
    "mnist = fetch_openml('mnist_784', version=1)\n",
    "mnist.keys()"
   ]
  },
  {
   "cell_type": "code",
   "execution_count": null,
   "metadata": {},
   "outputs": [],
   "source": [
    "# Get our features and our target values\n",
    "X, y = mnist[\"data\"], mnist[\"target\"]\n",
    "\n",
    "# Show the data's size and dimensions\n",
    "print(\"X's dimensions:\", X.shape,\"\\ny's dimensions:\", y.shape)"
   ]
  },
  {
   "cell_type": "code",
   "execution_count": null,
   "metadata": {},
   "outputs": [],
   "source": [
    "X_train, X_test, y_train, y_test = X[:60000], X[60000:], y[:60000], y[60000:]"
   ]
  },
  {
   "cell_type": "code",
   "execution_count": null,
   "metadata": {},
   "outputs": [],
   "source": [
    "# Load the data\n",
    "rf_1st_draft_test_preds = np.array(pd.read_csv(\"datasets/rf_preds.csv\")).reshape((10000, 1))\n",
    "\n",
    "# See what the best model is:\n",
    "best_rf_model = np.loadtxt(\"datasets/best_rf_model.txt\")\n",
    "best_rf_model"
   ]
  },
  {
   "cell_type": "code",
   "execution_count": null,
   "metadata": {},
   "outputs": [],
   "source": [
    "def shift_image(image, lr, du):\n",
    "    image = image.reshape((28, 28))\n",
    "    shifted_image = shift(image, [du, lr], cval = 0, mode = \"constant\")\n",
    "    return shifted_image.reshape([-1])"
   ]
  },
  {
   "cell_type": "code",
   "execution_count": null,
   "metadata": {},
   "outputs": [],
   "source": [
    "X_train_aug = [img for img in X_train]\n",
    "y_train_aug = [lbl for lbl in y_train]\n",
    "\n",
    "for lr, du in ((1, 0), (0, 1), (-1, 0), (0, -1)):\n",
    "    for img, lbl in zip(X_train, y_train):\n",
    "        X_train_aug.append(shift_image(img, lr, du))\n",
    "        y_train_aug.append(lbl)\n",
    "        \n",
    "X_train_aug = np.array(X_train_aug)\n",
    "y_train_aug = np.array(y_train_aug)\n",
    "\n",
    "# Make sure we don't get any auto-correlated errors\n",
    "shuffled_index = np.random.permutation(len(X_train_aug))\n",
    "X_train_aug = X_train_aug[shuffled_index]\n",
    "y_train_aug = y_train_aug[shuffled_index]\n",
    "\n",
    "# Scale the data\n",
    "scaler = StandardScaler()\n",
    "X_train_aug_scaled = scaler.fit_transform(X_train_aug.astype(np.float64))\n",
    "\n",
    "# Classify using the best random forest classifier\n",
    "best_forest_clf = RandomForestClassifier(**grid_search.best_params_)\n",
    "best_forest_clf.fit(X_train_aug_scaled, y_train_aug)"
   ]
  },
  {
   "cell_type": "code",
   "execution_count": null,
   "metadata": {},
   "outputs": [],
   "source": [
    "# Predictions\n",
    "y_aug_pred = best_forest_clf.predict(X_test)\n",
    "accuracy_score(y_test, y_aug_pred)"
   ]
  }
 ],
 "metadata": {
  "kernelspec": {
   "display_name": "Python 3",
   "language": "python",
   "name": "python3"
  },
  "language_info": {
   "codemirror_mode": {
    "name": "ipython",
    "version": 3
   },
   "file_extension": ".py",
   "mimetype": "text/x-python",
   "name": "python",
   "nbconvert_exporter": "python",
   "pygments_lexer": "ipython3",
   "version": "3.8.3"
  }
 },
 "nbformat": 4,
 "nbformat_minor": 4
}
