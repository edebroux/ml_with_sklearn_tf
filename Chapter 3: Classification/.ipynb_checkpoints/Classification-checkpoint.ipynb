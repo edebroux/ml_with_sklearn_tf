{
 "cells": [
  {
   "cell_type": "markdown",
   "metadata": {},
   "source": [
    "# Classification\n",
    "### MNIST\n",
    "In this chapter, we will be using the MNIST dataset, which is a set of 70,000 small images of digits handwritten by high school students and employees of the US Census Bureau. Each image is labeled with the digit it represents. This set has been studied so much that it is called the \"Hello World\" of machine learning: whenever people come up with a new classification algorithm, they are curious to see how it will perform on MNIST. Whenever someone learns ML, sooner or later they tackle MNIST.\n",
    "\n",
    "Scikit-Learn provides many helper functions to download popular datasets. MNIST is one of them. The following code gets the MNIST dataset:"
   ]
  },
  {
   "cell_type": "code",
   "execution_count": 1,
   "metadata": {},
   "outputs": [
    {
     "data": {
      "text/plain": [
       "dict_keys(['data', 'target', 'frame', 'categories', 'feature_names', 'target_names', 'DESCR', 'details', 'url'])"
      ]
     },
     "execution_count": 1,
     "metadata": {},
     "output_type": "execute_result"
    }
   ],
   "source": [
    "from sklearn.datasets import fetch_openml\n",
    "\n",
    "# get the MNIST dataset\n",
    "mnist = fetch_openml('mnist_784', version=1)\n",
    "mnist.keyseys()"
   ]
  },
  {
   "cell_type": "markdown",
   "metadata": {},
   "source": [
    "Datasets loaded by Scikit-Learn generally have a similar dictionary structure including:\n",
    "\n",
    "- A `DESCR` key for describing the dataset\n",
    "- A `data` key containing an array with one row per instance and one column per feature\n",
    "- A `target` key containing an array with the labels\n",
    "\n",
    "Let's take a look at these arrays:"
   ]
  },
  {
   "cell_type": "code",
   "execution_count": 3,
   "metadata": {},
   "outputs": [
    {
     "name": "stdout",
     "output_type": "stream",
     "text": [
      "X's dimensions: (70000, 784) \n",
      "y's dimensions: (70000,)\n"
     ]
    }
   ],
   "source": [
    "X, y = mnist[\"data\"], mnist[\"target\"]\n",
    "\n",
    "print(\"X's dimensions:\", X.shape,\"\\ny's dimensions:\", y.shape)"
   ]
  },
  {
   "cell_type": "markdown",
   "metadata": {},
   "source": [
    "There are 70,000 images, and each image has 784 features. This is because each image has 28x28 pixels, and each feature represents one pixel's intensity, from 0 (white) to 255 (black). Let's look at one image from the dataset:"
   ]
  },
  {
   "cell_type": "code",
   "execution_count": 5,
   "metadata": {},
   "outputs": [
    {
     "data": {
      "image/png": "[encoded data removed]",
      "text/plain": [
       "<Figure size 432x288 with 1 Axes>"
      ]
     },
     "metadata": {
      "needs_background": "light"
     },
     "output_type": "display_data"
    }
   ],
   "source": [
    "import matplotlib as mpl\n",
    "import matplotlib.pyplot as plt\n",
    "import numpy as np\n",
    "\n",
    "a_digit = X[0]\n",
    "a_digits_img = np.array(a_digit).reshape(28, 28)\n",
    "\n",
    "plt.imshow(a_digits_img, cmap=mpl.cm.binary, interpolation='nearest')\n",
    "plt.axis(\"off\")\n",
    "plt.show()"
   ]
  },
  {
   "cell_type": "markdown",
   "metadata": {},
   "source": [
    "Kind of looks like a 5..."
   ]
  },
  {
   "cell_type": "code",
   "execution_count": 6,
   "metadata": {},
   "outputs": [
    {
     "data": {
      "text/plain": [
       "'5'"
      ]
     },
     "execution_count": 6,
     "metadata": {},
     "output_type": "execute_result"
    }
   ],
   "source": [
    "y[0]"
   ]
  },
  {
   "cell_type": "markdown",
   "metadata": {},
   "source": [
    "It is a 5. Note that the label is a string. We prefer numbers, so let's cast the y-array so that all the labels are integers:"
   ]
  },
  {
   "cell_type": "code",
   "execution_count": 7,
   "metadata": {},
   "outputs": [],
   "source": [
    "y = y.astype(np.uint8)"
   ]
  },
  {
   "cell_type": "markdown",
   "metadata": {},
   "source": [
    "We should always create a test set, and set it aside before inspecting the data closely here. The MNIST dataset is actually already split into a training set (the first 60,000 images) and a test set (the last 10,000 images). Cool..."
   ]
  },
  {
   "cell_type": "code",
   "execution_count": 8,
   "metadata": {},
   "outputs": [],
   "source": [
    "X_train, X_test, y_train, y_test = X[:60000], X[60000:], y[:60000], y[60000:]"
   ]
  },
  {
   "cell_type": "markdown",
   "metadata": {},
   "source": [
    "The training set is already shuffled for us, which is good as this guarantees that all cross-validation folds will be similar. Moreover, some learning algorithms are sensitive to the order of the training instances, and they perform poorly if they get many similar instances in a row. Shuffling the dataset ensures that this will not happen.\n",
    "### Training a Binary Classifier\n",
    "Let's simplify the problem for now and only try to ID one digit-say a digit like the \"5\" we saw earlier. This is an example of a *binary classifier*, capable of distinguishing between a \"5\"-class and a \"not 5\"-class."
   ]
  },
  {
   "cell_type": "code",
   "execution_count": 9,
   "metadata": {},
   "outputs": [],
   "source": [
    "y_train_5 = (y_train == 5)  # True for all elements in the y_train vector equal to 5\n",
    "y_test_5 = (y_test == 5)    # Similar definition as above"
   ]
  },
  {
   "cell_type": "markdown",
   "metadata": {},
   "source": [
    "Okay, now let's pick a classifier and train it. A good place to start is with a *Stochastic Gradient Descent* classifier, using Scikit-Learn's `SGDClassifier` class. This classifier has the advantage of being capable of handling very large datasets efficiently. This is in part because SGD deals with training instances independently, as we will see later. Let's create an `SGDClassifier` and train it on the whole training set:"
   ]
  },
  {
   "cell_type": "code",
   "execution_count": 10,
   "metadata": {},
   "outputs": [
    {
     "data": {
      "text/plain": [
       "SGDClassifier(random_state=0)"
      ]
     },
     "execution_count": 10,
     "metadata": {},
     "output_type": "execute_result"
    }
   ],
   "source": [
    "from sklearn.linear_model import SGDClassifier\n",
    "\n",
    "sgd_clf = SGDClassifier(random_state=0)\n",
    "sgd_clf.fit(X_train, y_train_5)"
   ]
  },
  {
   "cell_type": "markdown",
   "metadata": {},
   "source": [
    "Now we can use it to detect images of the number 5:"
   ]
  },
  {
   "cell_type": "code",
   "execution_count": 11,
   "metadata": {},
   "outputs": [
    {
     "data": {
      "text/plain": [
       "array([False])"
      ]
     },
     "execution_count": 11,
     "metadata": {},
     "output_type": "execute_result"
    }
   ],
   "source": [
    "sgd_clf.predict([a_digit])"
   ]
  },
  {
   "cell_type": "markdown",
   "metadata": {},
   "source": [
    "Well, um, this classifier is not off to a great start here is it? (Recall, this should have returned `True`!)\n",
    "### Performance Measures\n",
    "Evaluating a classifier is often significantly trickier than evaluating a regressor. There are many performance measures available, so let's learn what some of the possiblities are!\n",
    "#### Measuring Accuracy Using Cross-Validation\n",
    "A good way to evaluate a model is to use cross-validation, just as we did in Chapter 2.\n",
    "\n",
    "**Implementing Cross-Validation:**\n",
    "\n",
    "Occasionally, we will need more control over the cross-validation process than what Scikit-Learn provides off-the-shelf. In these cases, we can implement cross-validation ourselves. The following code does roughly the same thing as Scikit-Learn's `cross_val_score()` function, and prints the same result:\n",
    "```python\n",
    "from sklearn.model_selection import StratifiedKFold\n",
    "from sklearn.base import clone\n",
    "\n",
    "skfolds = StratifiedKFold(n_splits = 3, random_state = 0)\n",
    "\n",
    "for train_idx, test_idx in skfolds.split(X_train, y_train_5):\n",
    "    clone_clf = clone(sgd_clf)\n",
    "    X_train_folds = X_train[train_idx]\n",
    "    y_train_folds = y_train_5[train_idx]\n",
    "    X_test_fold = X_test[test_idx]\n",
    "    y_test_fold = y_test_5[test_idx]\n",
    "    \n",
    "    clone_clf.fit(X_train_folds, y_train_folds)\n",
    "    y_pred = clone_clf.predict(X_test_fold)\n",
    "    n_correct = sum(y_pred == y_test_fold)\n",
    "    print(n_correct / len(y_pred))              # Prints the proportion correct in each fold\n",
    "```\n",
    "\n",
    "*The `StratifiedKFold` class performs stratified sampling to produce folds that contain a representative ratio of each class. At each iteration the code creates a clone of the classifier, trains that clone on the training folds, and makes predictions on the test fold. Then it counts the number of correct predictions and outputs the ratio of correct predictions.*\n",
    "\n",
    "Let's use the `cross_val_score()` function to evaluate our `SGDClassifier` model using K-fold cross-validation, with three folds. Remember that K-fold cross-validation means splitting the training set into K-folds, then making predictions and evaluatiing them on each fold using a model trained on the remaining folds (Chapter 2 notebook)."
   ]
  },
  {
   "cell_type": "code",
   "execution_count": 12,
   "metadata": {},
   "outputs": [
    {
     "data": {
      "text/plain": [
       "array([0.9499, 0.9556, 0.966 ])"
      ]
     },
     "execution_count": 12,
     "metadata": {},
     "output_type": "execute_result"
    }
   ],
   "source": [
    "from sklearn.model_selection import cross_val_score\n",
    "\n",
    "cross_val_score(sgd_clf, X_train, y_train_5, cv = 3, scoring = \"accuracy\")"
   ]
  },
  {
   "cell_type": "markdown",
   "metadata": {},
   "source": [
    "An accuracy of around 95%/96% sounds pretty good... or is it? (spoiler: it really isn't)\n",
    "\n",
    "Let's say we take a classifier that classifies every single image in the \"not 5\"-class:"
   ]
  },
  {
   "cell_type": "code",
   "execution_count": 13,
   "metadata": {},
   "outputs": [],
   "source": [
    "from sklearn.base import BaseEstimator\n",
    "\n",
    "class Never5Classifier(BaseEstimator):\n",
    "    def fit(self, X, y = None):\n",
    "        pass\n",
    "    \n",
    "    def predict(self, X):\n",
    "        return np.zeros((len(X), 1), dtype = bool)"
   ]
  },
  {
   "cell_type": "markdown",
   "metadata": {},
   "source": [
    "I would venture a guess that this model's accuracy is slightly above 90%."
   ]
  },
  {
   "cell_type": "code",
   "execution_count": 14,
   "metadata": {},
   "outputs": [
    {
     "data": {
      "text/plain": [
       "array([0.91125, 0.90855, 0.90915])"
      ]
     },
     "execution_count": 14,
     "metadata": {},
     "output_type": "execute_result"
    }
   ],
   "source": [
    "never_5_clf = Never5Classifier()\n",
    "\n",
    "cross_val_score(never_5_clf, X_train, y_train_5, cv = 3, scoring = 'accuracy')"
   ]
  },
  {
   "cell_type": "markdown",
   "metadata": {},
   "source": [
    "Wow, who would have thunk it? A dataset that contains where around 90% of the data is not 5, and if we just guess that every written number is not a 5 we get around 90% accuracy.\n",
    "\n",
    "Okay, but in all seriousness, accuracy may not be the best performance measure here. What\n",
    "#### Confusion Matrix\n",
    "A much better way to evaluate the performance of a classifier is to look at the *confusion matrix*. The general idea is to count the number of times the instances of class A are classified as class B and vice versa. \n",
    "\n",
    "To compute the confusion matrix, we first need to have a set of predictions, so they can be compared to the actual targets. We could make predictions on the test set, but let's keep it untouched for now. Instead, we can use the `cross_val_predict()` function:"
   ]
  },
  {
   "cell_type": "code",
   "execution_count": 15,
   "metadata": {},
   "outputs": [],
   "source": [
    "from sklearn.model_selection import cross_val_predict\n",
    "\n",
    "y_train_pred = cross_val_predict(sgd_clf, X_train, y_train_5, cv = 3)"
   ]
  },
  {
   "cell_type": "markdown",
   "metadata": {},
   "source": [
    "Just like the `cross_val_score()` function, `cross_val_predict()` performs K-fold cross-validation, but instead of returning the evaluation scores, it returns the predictions made on each test fold. This means that we get a clean prediction for each instance in the training set. Now we are ready to get the confusion matrix using the `confusion_matrix()` function. Just pass it the target classes `y_train_5` and the predicted classes `y_train_pred`:"
   ]
  },
  {
   "cell_type": "code",
   "execution_count": 16,
   "metadata": {},
   "outputs": [
    {
     "data": {
      "text/plain": [
       "array([[52931,  1648],\n",
       "       [  922,  4499]])"
      ]
     },
     "execution_count": 16,
     "metadata": {},
     "output_type": "execute_result"
    }
   ],
   "source": [
    "from sklearn.metrics import confusion_matrix\n",
    "\n",
    "confusion_matrix(y_train_5, y_train_pred)"
   ]
  },
  {
   "cell_type": "markdown",
   "metadata": {},
   "source": [
    "Each row in a confusion matrix represents an *actual class*, while each column represents a *predicted class*. The first row of this matrix considers non-5 images (negative class). We see that 52,931 (*true negatives*) were correctly classified as non-5s, while the remaining 1,648 (*false positives*) were incorrectly classified as non-5s when in reality they were 5s. In the second row, we see that 922 5s were classified as non-5s (*false negatives*) and 4,499 5s were correctly classified as 5s (*true positives*). A perfect classifier would have returned a matrix that looked like this:\n",
    "```python\n",
    "array([[54579, 0],\n",
    "       [0, 5421]])\n",
    "```\n",
    "The confusion matrix gives us a lot of information, but sometimes we may prefer a more concise metric. An interesting one to look at is the accuracy of the positive predictions, known as the *precision* of a classifier:\n",
    "\n",
    "$\\ precision \\ = \\frac{TP}{TP+FP}$\n",
    "\n",
    "A trivial way to have perfect precision is to make one single positive prediction and ensure it is correct. This would not be useful since the classifier would ignore all but one positive instance. So precision is typically used along with another metric called *recall*, also called *sensitivity* or *true positive rate (TPR)*. This is the ratio of positive instances that are correctly detected by the classifier:\n",
    "\n",
    "$ \\ recall \\ = \\frac{TP}{TP+FN}$\n",
    "#### Precision and Recall\n",
    "Scikit-Learn provides several functions to compute classifier metrics, including precision and recall:"
   ]
  },
  {
   "cell_type": "code",
   "execution_count": 17,
   "metadata": {},
   "outputs": [
    {
     "name": "stdout",
     "output_type": "stream",
     "text": [
      "0.7319017406865137\n",
      "0.8299206788415422\n"
     ]
    }
   ],
   "source": [
    "from sklearn.metrics import precision_score, recall_score\n",
    "\n",
    "print(precision_score(y_train_5, y_train_pred)) # == 4499 / (4499 + 1648)\n",
    "print(recall_score(y_train_5, y_train_pred))    # == 4499 / (4499 + 922)"
   ]
  },
  {
   "cell_type": "markdown",
   "metadata": {},
   "source": [
    "Now, our 5-dectector does not look nearly as good as it did when we looked at its accuracy alone. When it claims an image represents a 5, it is only right approximately 73.2% of the time. Moreover, it only detects 5s approximately 83% of the time.\n",
    "\n",
    "It is often conveinient to combine precision and recall into a single metric called the *F<sub>1</sub> score*, in particular if we need a simple way to compare two classifiers. The F<sub>1</sub> score is the *harmonic mean* of precision and recall. Whereas the regular mean treats all values equally (but can be weighed by extremely high/low outlying values), the harmonic mean gives more weight to low values. As a result, the classifier will only get a high F<sub>1</sub> score if both recall and precision are high:\n",
    "\n",
    "$F_1 = \\frac{2}{\\frac{1}{precision} + \\frac{1}{recall}} = 2(\\frac{precision \\ * \\ recall}{precision \\ + \\ recall}) = \\frac{TP}{TP + \\frac{FN + FP}{2}}$\n",
    "\n",
    "To compute the F<sub>1</sub> score, simply call the `f1_score()` function:"
   ]
  },
  {
   "cell_type": "code",
   "execution_count": 18,
   "metadata": {},
   "outputs": [
    {
     "data": {
      "text/plain": [
       "0.77783540802213"
      ]
     },
     "execution_count": 18,
     "metadata": {},
     "output_type": "execute_result"
    }
   ],
   "source": [
    "from sklearn.metrics import f1_score\n",
    "\n",
    "f1_score(y_train_5, y_train_pred)"
   ]
  },
  {
   "cell_type": "markdown",
   "metadata": {},
   "source": [
    "The F<sub>1</sub> score favors classifiers that have similar precision and recall. This is not always what we will want: in some instances we will care more about precision, while in others we will care more about recall. Unfortunately, we cannot simulataneously increase the precision and recall.\n",
    "#### Precision/Recall Tradeoff\n",
    "To understand this tradeoff, let's look at how the `SGDClassifier` makes its classification decisions. For each instance, it computes a score based on a *decision function*, and if that score is greater than a threshold, it assignes the instance to the positive class, or else it assigns it to the negative class. See illustration on pages 89-90.\n",
    "\n",
    "Scikit-Learn does not let us se the threshold directly, but it does give us access to the decision scores that it uses to make predictions. Instead of calling the classifier's predict() method, we can call its `decision_function()` method, which returns a score for each instance, and then make predictions based on those scores using any threshold you want:"
   ]
  },
  {
   "cell_type": "code",
   "execution_count": 19,
   "metadata": {},
   "outputs": [
    {
     "data": {
      "text/plain": [
       "array([-2736.11125406])"
      ]
     },
     "execution_count": 19,
     "metadata": {},
     "output_type": "execute_result"
    }
   ],
   "source": [
    "y_scores = sgd_clf.decision_function([a_digit])\n",
    "y_scores"
   ]
  },
  {
   "cell_type": "code",
   "execution_count": 21,
   "metadata": {},
   "outputs": [
    {
     "data": {
      "text/plain": [
       "array([False])"
      ]
     },
     "execution_count": 21,
     "metadata": {},
     "output_type": "execute_result"
    }
   ],
   "source": [
    "threshold = 0\n",
    "y_a_digit_pred = (y_scores > threshold)\n",
    "y_a_digit_pred"
   ]
  },
  {
   "cell_type": "markdown",
   "metadata": {},
   "source": [
    "The `SGDClassifier` uses a threshold equal to 0, so the previous code returns the same result as the `predict()` method. Let's raise the threshold:"
   ]
  },
  {
   "cell_type": "code",
   "execution_count": 23,
   "metadata": {},
   "outputs": [
    {
     "data": {
      "text/plain": [
       "array([ True])"
      ]
     },
     "execution_count": 23,
     "metadata": {},
     "output_type": "execute_result"
    }
   ],
   "source": [
    "threshold = -5000\n",
    "y_a_digit_pred = (y_scores > threshold)\n",
    "y_a_digit_pred"
   ]
  },
  {
   "cell_type": "markdown",
   "metadata": {},
   "source": [
    "This confirms that raising the threshold decreases recall. The image actually represents a 5, and the classifier detects it when the threshold would be lower, but it missed it when the threshold was 0. \n",
    "\n",
    "Now, what threshold do we use? For this we will first need to get the scores of all isntances in the training set using the `cross_val_predict()` function again, but this time specifying that we want it to return decision scores instead of predictions:"
   ]
  },
  {
   "cell_type": "code",
   "execution_count": 24,
   "metadata": {},
   "outputs": [],
   "source": [
    "y_scores = cross_val_predict(sgd_clf, X_train, y_train_5, cv = 3, method = \"decision_function\")"
   ]
  },
  {
   "cell_type": "markdown",
   "metadata": {},
   "source": [
    "Now, with these scores we can compute the precision and recall for all possible thresholds using the `precision_recall_curve()` function:"
   ]
  },
  {
   "cell_type": "code",
   "execution_count": 25,
   "metadata": {},
   "outputs": [],
   "source": [
    "from sklearn.metrics import precision_recall_curve\n",
    "\n",
    "precisions, recalls, thresholds = precision_recall_curve(y_train_5, y_scores)"
   ]
  },
  {
   "cell_type": "markdown",
   "metadata": {},
   "source": [
    "Finally, we can plot precision and recall as functions of the trheshold value using Matplotlib:"
   ]
  },
  {
   "cell_type": "code",
   "execution_count": 29,
   "metadata": {},
   "outputs": [
    {
     "data": {
      "image/png": "[encoded data removed]",
      "text/plain": [
       "<Figure size 864x432 with 1 Axes>"
      ]
     },
     "metadata": {
      "needs_background": "light"
     },
     "output_type": "display_data"
    }
   ],
   "source": [
    "def plot_precision_recall_vs_threshold(precisions, recalls, thresholds):\n",
    "    plt.figure(figsize = (12, 6))\n",
    "    plt.plot(thresholds, precisions[:-1], \"b--\", label = \"Precision\")\n",
    "    plt.plot(thresholds, recalls[:-1], \"r-\", label = \"Recall\")\n",
    "    plt.xlabel(\"Threshold\")\n",
    "    plt.legend()\n",
    "    plt.ylim([0, 1])\n",
    "    \n",
    "plot_precision_recall_vs_threshold(precisions, recalls, thresholds)\n",
    "plt.show()"
   ]
  },
  {
   "cell_type": "markdown",
   "metadata": {},
   "source": [
    "We can simply pick a threshold that gives us the best precision/recall tradeoff for our task. ANother way to select a good precision/recall tradeoff is to plot the precision directly against the recall:"
   ]
  },
  {
   "cell_type": "code",
   "execution_count": 33,
   "metadata": {},
   "outputs": [
    {
     "data": {
      "image/png": "[encoded data removed]",
      "text/plain": [
       "<Figure size 432x432 with 1 Axes>"
      ]
     },
     "metadata": {
      "needs_background": "light"
     },
     "output_type": "display_data"
    }
   ],
   "source": [
    "def plot_precision_vs_recall(recalls, precisions):\n",
    "    plt.figure(figsize = (6, 6))\n",
    "    plt.plot(recalls[:-1], precisions[:-1], \"g-\")\n",
    "    plt.xlabel(\"Recall\")\n",
    "    plt.ylabel(\"Precision\")\n",
    "    plt.xlim([0, 1]); plt.ylim([0, 1])\n",
    "\n",
    "plot_precision_vs_recall(recalls, precisions)\n",
    "plt.show()"
   ]
  },
  {
   "cell_type": "markdown",
   "metadata": {},
   "source": [
    "We can see that the precision starts to fall off sharply around ~80% recall. We will probably want to select a precision/recall right before that drop, but, again, that depends on our project.\n",
    "\n",
    "Let's suppose that we want to aim for 90% precision. We look up the the first plot and find we need a threshold of around 4,000. To make the predictions, instead of calling the classifier's `predict()` method, we can run this code:"
   ]
  },
  {
   "cell_type": "code",
   "execution_count": 42,
   "metadata": {},
   "outputs": [],
   "source": [
    "y_train_pc_90_pred = (y_scores > 4000)"
   ]
  },
  {
   "cell_type": "markdown",
   "metadata": {},
   "source": [
    "Let's check the precison and recall:"
   ]
  },
  {
   "cell_type": "code",
   "execution_count": 43,
   "metadata": {},
   "outputs": [
    {
     "data": {
      "text/plain": [
       "0.9107725788900979"
      ]
     },
     "execution_count": 43,
     "metadata": {},
     "output_type": "execute_result"
    }
   ],
   "source": [
    "precision_score(y_train_5, y_train_pc_90_pred)"
   ]
  },
  {
   "cell_type": "code",
   "execution_count": 44,
   "metadata": {},
   "outputs": [
    {
     "data": {
      "text/plain": [
       "0.6175982291090205"
      ]
     },
     "execution_count": 44,
     "metadata": {},
     "output_type": "execute_result"
    }
   ],
   "source": [
    "recall_score(y_train_5, y_train_pc_90_pred)"
   ]
  },
  {
   "cell_type": "markdown",
   "metadata": {},
   "source": [
    "Well that's great, we have a 91% precision classifier. As we can see, it is easy to create a classifier with any precision, we just have to select a high enough threshold. HOWEVER, that classifier will be useless if the recall is too low!\n",
    "#### The ROC Curve\n",
    "The *receiver operating characteristic* (ROC) curve is another common tool used with binary classifiers. It is very similar to the precision/recall curve, but instead of plotting precision versus recall, the ROC curve plots the *true positive rate*, i.e. recall, against the *false positive rate*. The FPR is the ratio of negative instances that are incorrectly classified as positive. It is equal to one minus the *true negative rate*, which is the ratio of negative instances that are correctly classified as negative. The TNR is also called *specificity*. Hence the ROC curve plots *sensitivity* (recall) versus *1-specificity*.\n",
    "\n",
    "To plot the ROC curve, we first need to compute the TPR and FPR for various threshold values, using the `roc_curve()` function:"
   ]
  },
  {
   "cell_type": "code",
   "execution_count": 46,
   "metadata": {},
   "outputs": [
    {
     "data": {
      "image/png": "[encoded data removed]",
      "text/plain": [
       "<Figure size 720x432 with 1 Axes>"
      ]
     },
     "metadata": {
      "needs_background": "light"
     },
     "output_type": "display_data"
    }
   ],
   "source": [
    "from sklearn.metrics import roc_curve\n",
    "\n",
    "fpr, tpr, thresholds = roc_curve(y_train_5, y_scores)\n",
    "\n",
    "# Now plot the curve\n",
    "def plot_roc_curve(fpr, tpr, label = None):\n",
    "    plt.figure(figsize = (10, 6))\n",
    "    plt.plot(fpr, tpr, linewidth = 2, label = label)\n",
    "    plt.plot([0, 1], [0, 1], 'k--')\n",
    "    plt.axis([0, 1, 0, 1])\n",
    "    plt.xlabel(\"False Positive Rate (FPR)\")\n",
    "    plt.ylabel(\"True Positve Rate (TPR)\")\n",
    "    \n",
    "plot_roc_curve(fpr, tpr)\n",
    "plt.show()"
   ]
  },
  {
   "cell_type": "markdown",
   "metadata": {},
   "source": [
    "Once again there is a tradeoff: the higher the recall (TPR), the more false positives (FPR) the classifier produces. The dotted line represents the ROC curve of a purely random classifier. A good classifier stays as far away from that line as possible.\n",
    "\n",
    "One way to compare classifers is to measure the *area under the curve* (AUC). A prefect classifer will have a *ROC AUC* equal to 1, whereas a purely random classifier will have a ROC AUC equal to 0.5. Scikit-Learn provides a function to compute the ROC AUC:"
   ]
  },
  {
   "cell_type": "code",
   "execution_count": 47,
   "metadata": {},
   "outputs": [
    {
     "data": {
      "text/plain": [
       "0.9624892334207759"
      ]
     },
     "execution_count": 47,
     "metadata": {},
     "output_type": "execute_result"
    }
   ],
   "source": [
    "from sklearn.metrics import roc_auc_score\n",
    "\n",
    "roc_auc_score(y_train_5, y_scores)"
   ]
  },
  {
   "cell_type": "markdown",
   "metadata": {},
   "source": [
    "Let's train a `RandomForestClassifier` and compare its ROC curve and ROC AUC score to the `SGDClassifier`. FIrst, we need to get scores for each instance in the training set. But due to the way it works, the `RandomForestClassifier` does not have a `decision_function()`. Instead it has a `predict_proba()` method returns an array containing a row per instance and a column per class, each containing the probability that the given instance belongs to the given class:"
   ]
  },
  {
   "cell_type": "code",
   "execution_count": 48,
   "metadata": {},
   "outputs": [],
   "source": [
    "from sklearn.ensemble import RandomForestClassifier\n",
    "\n",
    "forest_clf = RandomForestClassifier(random_state = 0)\n",
    "y_probas_forest = cross_val_predict(forest_clf, X_train, y_train_5, cv = 3, method = \"predict_proba\")"
   ]
  },
  {
   "cell_type": "markdown",
   "metadata": {},
   "source": [
    "But to plot a ROC curve, we need scores, not probabilities. A simple solution is to use the positive class's probability as a score... duh:"
   ]
  },
  {
   "cell_type": "code",
   "execution_count": 49,
   "metadata": {},
   "outputs": [],
   "source": [
    "y_scores_forest = y_probas_forest[:, 1] # score = probability of positive class\n",
    "fpr_forest, tpr_forest, thresholds_forest = roc_curve(y_train_5, y_scores_forest)"
   ]
  },
  {
   "cell_type": "markdown",
   "metadata": {},
   "source": [
    "Let's compare these two classifiers:"
   ]
  },
  {
   "cell_type": "code",
   "execution_count": 51,
   "metadata": {},
   "outputs": [
    {
     "data": {
      "image/png": "[encoded data removed]",
      "text/plain": [
       "<Figure size 720x432 with 1 Axes>"
      ]
     },
     "metadata": {
      "needs_background": "light"
     },
     "output_type": "display_data"
    }
   ],
   "source": [
    "plot_roc_curve(fpr_forest, tpr_forest, label = \"Random Forest\")\n",
    "plt.plot(fpr, tpr, \"b:\", label = \"SGD\")\n",
    "plt.legend()\n",
    "plt.show()"
   ]
  },
  {
   "cell_type": "markdown",
   "metadata": {},
   "source": [
    "As we can see, the `RandomForestClassifier`'s ROC curve looks much better than the `SGDClassifier`'s. The ROC AUC will be better than the `SGDClassifier`'s ROC AUC as well:"
   ]
  },
  {
   "cell_type": "code",
   "execution_count": 52,
   "metadata": {},
   "outputs": [
    {
     "data": {
      "text/plain": [
       "0.9983139390673001"
      ]
     },
     "execution_count": 52,
     "metadata": {},
     "output_type": "execute_result"
    }
   ],
   "source": [
    "roc_auc_score(y_train_5, y_scores_forest)"
   ]
  },
  {
   "cell_type": "markdown",
   "metadata": {},
   "source": [
    "The precision and recall scores are higher too:"
   ]
  },
  {
   "cell_type": "code",
   "execution_count": 54,
   "metadata": {},
   "outputs": [
    {
     "data": {
      "text/plain": [
       "0.9905083315756169"
      ]
     },
     "execution_count": 54,
     "metadata": {},
     "output_type": "execute_result"
    }
   ],
   "source": [
    "y_preds_forest = cross_val_predict(forest_clf, X_train, y_train_5, cv = 3)\n",
    "precision_score(y_train_5, y_preds_forest)"
   ]
  },
  {
   "cell_type": "code",
   "execution_count": 55,
   "metadata": {},
   "outputs": [
    {
     "data": {
      "text/plain": [
       "0.8662608374838591"
      ]
     },
     "execution_count": 55,
     "metadata": {},
     "output_type": "execute_result"
    }
   ],
   "source": [
    "recall_score(y_train_5, y_preds_forest)"
   ]
  },
  {
   "cell_type": "markdown",
   "metadata": {},
   "source": [
    "Let's try a mutlinomial classification problem now that we have a pretty darn good classifier.\n",
    "### Multinomial Classification\n",
    "Whereas binary classifiers distinguish between two classes, *multinomial classifiers* can distinguish between more than two classes. Some algorithms such as Random Forest classifiers or naive Bayes classifiers are capable of handling multiple classes directly. Others (such as SVCs or Linear classifiers) are strictly binary classifiers. However, there are various strategies that we can use to perform multinomial classification using multiple binary classifiers. \n",
    "\n",
    "We could make multiple classifiers that try to detect one specific class within the target space, known as a *one-versus-all strategy*. We could also train a binary classifier for every pair of classes, which would give us $\\binom{n}{2} = \\frac{n(n-1)}{2}$ classifiers, known as the *one-versus-one strategy*. In that instance, when we want to classify an image, we have to run the image through all the classifiers and see which class wins the most duels, which seems tedious.\n",
    "\n",
    "Some algorithms, such as SVM classifiers  scale poorly with the size of the training set, so for these algorithms the one-versus-one strategy is perferred since it is faster to train many classifiers on small training sets than training few classifiers on large training sets. For most binary classification algorithms, the one-versus-all strategy is preferred.\n",
    "\n",
    "Scikit-Learn detects when we try to use a binary classification algorithm for a multinomial classification task, and it automatically runs the one-versus-all strategy (except for SVM classifiers where it runs on a one-versus-one strategy). Let's try this with the `SGDClassifier`:"
   ]
  },
  {
   "cell_type": "code",
   "execution_count": 56,
   "metadata": {},
   "outputs": [
    {
     "data": {
      "text/plain": [
       "array([3], dtype=uint8)"
      ]
     },
     "execution_count": 56,
     "metadata": {},
     "output_type": "execute_result"
    }
   ],
   "source": [
    "sgd_clf.fit(X_train, y_train)  # y_train_5 is changed to y_train\n",
    "sgd_clf.predict([a_digit])"
   ]
  },
  {
   "cell_type": "markdown",
   "metadata": {},
   "source": [
    "That was fairly easy. The code trains the `SGDClassifier` on the training set using the original target classes from 0 to 9 (the `y_train` vector). Then it makes a prediction (the wrong one). Under the hood, Scikit-Learn actually trained 10 binary classifiers, got their decision scores for the image, and selected the class with the highest score.\n",
    "\n",
    "To see that this is the case, we can call the `decision_function()` method. Instead of returning one score per instance, it now returns 1 score per class (10 scores)."
   ]
  },
  {
   "cell_type": "code",
   "execution_count": 57,
   "metadata": {},
   "outputs": [
    {
     "data": {
      "text/plain": [
       "array([[-13236.09081562, -19699.08846458,  -8139.68842023,\n",
       "           930.53889974, -20705.22636106,  -1184.44579435,\n",
       "        -35313.70462583, -12156.5587882 , -10657.65460373,\n",
       "        -10403.33370535]])"
      ]
     },
     "execution_count": 57,
     "metadata": {},
     "output_type": "execute_result"
    }
   ],
   "source": [
    "a_digit_scores = sgd_clf.decision_function([a_digit])\n",
    "a_digit_scores"
   ]
  },
  {
   "cell_type": "markdown",
   "metadata": {},
   "source": [
    "We see that 5 was the second most likely, so I guess that it wasn't too far off. The highest score coresponded to 3:"
   ]
  },
  {
   "cell_type": "code",
   "execution_count": 58,
   "metadata": {},
   "outputs": [
    {
     "data": {
      "text/plain": [
       "3"
      ]
     },
     "execution_count": 58,
     "metadata": {},
     "output_type": "execute_result"
    }
   ],
   "source": [
    "np.argmax(a_digit_scores)"
   ]
  },
  {
   "cell_type": "code",
   "execution_count": 59,
   "metadata": {},
   "outputs": [
    {
     "data": {
      "text/plain": [
       "array([0, 1, 2, 3, 4, 5, 6, 7, 8, 9], dtype=uint8)"
      ]
     },
     "execution_count": 59,
     "metadata": {},
     "output_type": "execute_result"
    }
   ],
   "source": [
    "sgd_clf.classes_"
   ]
  },
  {
   "cell_type": "code",
   "execution_count": 60,
   "metadata": {},
   "outputs": [
    {
     "data": {
      "text/plain": [
       "3"
      ]
     },
     "execution_count": 60,
     "metadata": {},
     "output_type": "execute_result"
    }
   ],
   "source": [
    "sgd_clf.classes_[3]"
   ]
  },
  {
   "cell_type": "markdown",
   "metadata": {},
   "source": [
    "If we want to force Scikit-Learn to use the OvO strategy or the OvA strategy, we can use the `OneVsOneClassifier` or the `OneVsRestClassifier` classes. Simply create an instance and pass a binary classifier to its constructor. For example, this code creates a multinomial classifier using the OvO strategy based on a `SGDClassifier`:\n",
    "```python\n",
    "from sklearn.multiclass import OneVsOneClassifier\n",
    "\n",
    "ovo_clf = OneVsOneClassifier(SGDClassifier(random_state = 0))\n",
    "ovo_clf.fit(X_train, y_train)\n",
    "ovo_clf.predict([a_digit])\n",
    "# Returns the OvO prediction\n",
    "len(ovo_clf.estimators_)\n",
    "# Returns 45 in this instance\n",
    "```\n",
    "Training a `RandomForestClassifier` is just as easy:"
   ]
  },
  {
   "cell_type": "code",
   "execution_count": 61,
   "metadata": {},
   "outputs": [
    {
     "data": {
      "text/plain": [
       "array([5], dtype=uint8)"
      ]
     },
     "execution_count": 61,
     "metadata": {},
     "output_type": "execute_result"
    }
   ],
   "source": [
    "forest_clf.fit(X_train, y_train)\n",
    "forest_clf.predict([a_digit])"
   ]
  },
  {
   "cell_type": "markdown",
   "metadata": {},
   "source": [
    "Hey, this time it correctly predicted that the digit was 5! This time Scikit-Learn did not have to run OvA or OvO because Random Forest classifiers can directly classify instances into multiple classes. We can call `predict_proba()` to get the list of probabilities that the classifier assigned to each instance for each class:"
   ]
  },
  {
   "cell_type": "code",
   "execution_count": 62,
   "metadata": {},
   "outputs": [
    {
     "data": {
      "text/plain": [
       "array([[0.  , 0.  , 0.01, 0.06, 0.  , 0.87, 0.02, 0.01, 0.02, 0.01]])"
      ]
     },
     "execution_count": 62,
     "metadata": {},
     "output_type": "execute_result"
    }
   ],
   "source": [
    "forest_clf.predict_proba([a_digit])"
   ]
  },
  {
   "cell_type": "markdown",
   "metadata": {},
   "source": [
    "The model is pretty confident (87% likelihood), that this image represents a 5. It also thinks it could be a 2, 3, 6, 7, 8, or 9, but those probabilities are very low by comparison.\n",
    "\n",
    "Now we want to evaluate these classifiers. As usual, we want to use cross validation. Let's evaluate the `SGDClassifier`'s accuracy using the `cross_val_score()` function:"
   ]
  },
  {
   "cell_type": "code",
   "execution_count": 63,
   "metadata": {},
   "outputs": [
    {
     "data": {
      "text/plain": [
       "array([0.8485, 0.8676, 0.8621])"
      ]
     },
     "execution_count": 63,
     "metadata": {},
     "output_type": "execute_result"
    }
   ],
   "source": [
    "cross_val_score(sgd_clf, X_train, y_train, cv = 3, scoring = \"accuracy\")"
   ]
  },
  {
   "cell_type": "markdown",
   "metadata": {},
   "source": [
    "The accuracy comes in between 84-87% on all the test folds. If we used a random classifier, we would get around 10% accuracy, which means that this is not a terrible score. With the `RandomForestClassifier`, we see that the overall performance was better:"
   ]
  },
  {
   "cell_type": "code",
   "execution_count": 64,
   "metadata": {},
   "outputs": [
    {
     "data": {
      "text/plain": [
       "array([0.96465, 0.96225, 0.9659 ])"
      ]
     },
     "execution_count": 64,
     "metadata": {},
     "output_type": "execute_result"
    }
   ],
   "source": [
    "cross_val_score(forest_clf, X_train, y_train, cv = 3, scoring = \"accuracy\")"
   ]
  },
  {
   "cell_type": "markdown",
   "metadata": {},
   "source": [
    "We can still do better. For example, scaling the inputs would increase the accuracy of the `SGDClassifier` to ___:"
   ]
  },
  {
   "cell_type": "code",
   "execution_count": 66,
   "metadata": {},
   "outputs": [
    {
     "name": "stderr",
     "output_type": "stream",
     "text": [
      "/home/evan/anaconda3/lib/python3.8/site-packages/sklearn/linear_model/_stochastic_gradient.py:570: ConvergenceWarning: Maximum number of iteration reached before convergence. Consider increasing max_iter to improve the fit.\n",
      "  warnings.warn(\"Maximum number of iteration reached before \"\n"
     ]
    },
    {
     "data": {
      "text/plain": [
       "array([0.89935, 0.9016 , 0.9017 ])"
      ]
     },
     "execution_count": 66,
     "metadata": {},
     "output_type": "execute_result"
    }
   ],
   "source": [
    "from sklearn.preprocessing import StandardScaler\n",
    "\n",
    "scaler = StandardScaler()\n",
    "X_train_scaled = scaler.fit_transform(X_train.astype(np.float64))\n",
    "cross_val_score(sgd_clf, X_train_scaled, y_train, cv = 3, scoring = \"accuracy\", n_jobs = 3)"
   ]
  },
  {
   "cell_type": "markdown",
   "metadata": {},
   "source": [
    "### Error Analysis\n",
    "Of course, we would need to folow the steps in our ML project checklist (see Appendix B): exploring data preparation options, trying multiple models, shortlisting the best ones and fine-tuning their hyperparameters using `GridSearchCV` or `RandomSearchCV`, and automating as much as possible, as we did in Chapter 2. Here, we will assume that we have found a promising model and we want to find ways to improve it. One way to do this is to analyze the types of errors it makes.\n",
    "\n",
    "First, we can look at the confusion matrix. We need to make predictions using the `cross_val_predict()` function, then call the `confusion_matrix()` function, just as we did earlier:"
   ]
  },
  {
   "cell_type": "code",
   "execution_count": null,
   "metadata": {},
   "outputs": [],
   "source": [
    "y_train_pred = cross_val_predict(sgd_clf, X_train_scaled, y_train, cv = 3, n_jobs = 3)\n",
    "conf_mtx = confusion_matrix(y_train, y_train_pred)\n",
    "conf_mtx"
   ]
  },
  {
   "cell_type": "markdown",
   "metadata": {},
   "source": [
    "These numbers would probably be hard to parse through. We should try creating a visualization of this confusion matrix. This can be done using Matplotlib's `matshow()` function:"
   ]
  },
  {
   "cell_type": "code",
   "execution_count": null,
   "metadata": {},
   "outputs": [],
   "source": [
    "plt.matshow(conf_mtx, cmap = plt.cm.)"
   ]
  },
  {
   "cell_type": "markdown",
   "metadata": {},
   "source": [
    "This confusion matrix looks pretty good, since most of the images are on the main diagonal, which means thaat they were classified correctly for the most part. Add analysis here\n",
    "\n",
    "Let's focus the plot on the errors. First, we need to divide each value in the confusion matrix by the number of images in the corresponding class, so we can compare error rates instead of absolute number of errors (which would make abundant classes look unfairly bad):"
   ]
  },
  {
   "cell_type": "code",
   "execution_count": null,
   "metadata": {},
   "outputs": [],
   "source": [
    "row_sums = conf_mtx.sum(axis = 1, # by row\n",
    "                       keep_dims = True)\n",
    "norm_conf_mtx = conf_mtx / row_sums"
   ]
  },
  {
   "cell_type": "markdown",
   "metadata": {},
   "source": [
    "Now let's fill the diagonal with zeros to keep only the erors, and let's plot the result:"
   ]
  },
  {
   "cell_type": "code",
   "execution_count": null,
   "metadata": {},
   "outputs": [],
   "source": [
    "np.fill_diagonal(norm_conf_mtx, 0)\n",
    "plt.matshow(norm_conf_mtx, cmap=plt.cm.)\n",
    "plt.show()"
   ]
  },
  {
   "cell_type": "markdown",
   "metadata": {},
   "source": [
    "Now we can see the kinds of erros the classifier makes. Remember that the **rows represent the actual classes, while the columns represent the predicted classes.** The columns for \n",
    "\n",
    "Analyzing the confusion matrix can often give us insights on ways to improve our classifier. Looking at this plot, it seems that our effects should be spent on improving the classification of 8s and 9s, as well as fixing the specific 3/5 confusionn. For example, we could try to gather more training data for these digits. Or we could engiiner new features that would help the classifier-such as writing an algorithm to count the number of closed loops (such as 8 having 1, 6 having two, and 5 having none). Or we could preprocess the images (using Scikit-Image, Pillow, or OpenCV) to make some patterns stand out more, such as closed loops.\n",
    "\n",
    "Analyzing individual erros can also be a good way to gain insights on what our classifier is doing and why it is failing, but it is more difficult and time-consuming. For example, let's plot some 3s and 5s:"
   ]
  },
  {
   "cell_type": "code",
   "execution_count": null,
   "metadata": {},
   "outputs": [],
   "source": [
    "cl_a, cl_b = 3, 5\n",
    "X_aa = X_train[(y_train == cl_a) & (y_train_pred == cl_a)]\n",
    "X_ab = X_train[(y_train == cl_a) & (y_train_pred == cl_b)]\n",
    "X_ba = X_train[(y_train == cl_b) & (y_train_pred == cl_a)]\n",
    "X_bb = X_train[(y_train == cl_b) & (y_train_pred == cl_b)]\n"
   ]
  }
 ],
 "metadata": {
  "kernelspec": {
   "display_name": "Python 3",
   "language": "python",
   "name": "python3"
  },
  "language_info": {
   "codemirror_mode": {
    "name": "ipython",
    "version": 3
   },
   "file_extension": ".py",
   "mimetype": "text/x-python",
   "name": "python",
   "nbconvert_exporter": "python",
   "pygments_lexer": "ipython3",
   "version": "3.8.3"
  }
 },
 "nbformat": 4,
 "nbformat_minor": 4
}
