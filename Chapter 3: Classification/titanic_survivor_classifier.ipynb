{
 "cells": [
  {
   "cell_type": "markdown",
   "metadata": {},
   "source": [
    "# Titanic Survivor Classifier\n",
    "This is exercise 3 from Chapter 3 of the ML textbook.\n",
    "\n",
    "For those who don't know what the Titanic is, or perhaps are only familiar with the Titanic from Dr. Who, the Titanic was a ship that set sail from Southampton on April 12, 1912 setting sail for New York but sank in the North Atlantic Ocean on April 15, 1912. The ship was deemed unsinkable, but it hit a large iceberg which caused serious damage to the ship which led to its sinking. As there were not enough lifeboats on the ship, almost 2/3<sup>rds</sup> of the passengers on board.\n",
    "\n",
    "With that said, we want to create a classifier that can predict whether or not a passenger survived given a set of potential predictor variables, and perhaps analyze the most pertinent factors which led to these passengers' survival/fatalities. Let's start by looking at the variables:\n",
    "\n",
    "| Variable Name | Description | Key |\n",
    "| :------------ | :---------- | :-- |\n",
    "| `survival` | Survival | 0 = No, 1 = Yes |\n",
    "| `pclass` | Ticket class | 1 = 1st, 2 = 2nd, 3 = 3rd |\n",
    "| `sex` | Sex of passenger |  |\n",
    "| `Age` | Age of passenger in years | |\n",
    "| `sibsp` | Number of siblings/spouses aboard the Titanic | |\n",
    "| `parch` | Number of parents/children aboard the Titanic | |\n",
    "| `ticket` | Ticket number | |\n",
    "| `fare` | Passenger fare | |\n",
    "| `cabin` | Cabin number | |\n",
    "| `embarked` | Port of embarkation | C = Cherbourg, Q = Queenstown, S = Southampton |\n",
    "\n",
    "Let's look at the distribution of the variables in our dataset, but wait, we have to load the data first and import the packages necessary for analyzing this dataset:"
   ]
  },
  {
   "cell_type": "code",
   "execution_count": 1,
   "metadata": {},
   "outputs": [
    {
     "name": "stdout",
     "output_type": "stream",
     "text": [
      "Index(['PassengerId', 'Survived', 'Pclass', 'Name', 'Sex', 'Age', 'SibSp',\n",
      "       'Parch', 'Ticket', 'Fare', 'Cabin', 'Embarked'],\n",
      "      dtype='object')\n",
      "Index(['PassengerId', 'Pclass', 'Name', 'Sex', 'Age', 'SibSp', 'Parch',\n",
      "       'Ticket', 'Fare', 'Cabin', 'Embarked'],\n",
      "      dtype='object')\n"
     ]
    }
   ],
   "source": [
    "import pandas as pd\n",
    "import numpy as np\n",
    "import scipy.stats as stats\n",
    "import matplotlib.pyplot as plt\n",
    "\n",
    "train = pd.read_csv(\"datasets/train.csv\")\n",
    "test = pd.read_csv(\"datasets/test.csv\")\n",
    "\n",
    "print(train.keys())\n",
    "print(test.keys())"
   ]
  },
  {
   "cell_type": "code",
   "execution_count": 2,
   "metadata": {},
   "outputs": [
    {
     "data": {
      "text/html": [
       "<div>\n",
       "<style scoped>\n",
       "    .dataframe tbody tr th:only-of-type {\n",
       "        vertical-align: middle;\n",
       "    }\n",
       "\n",
       "    .dataframe tbody tr th {\n",
       "        vertical-align: top;\n",
       "    }\n",
       "\n",
       "    .dataframe thead th {\n",
       "        text-align: right;\n",
       "    }\n",
       "</style>\n",
       "<table border=\"1\" class=\"dataframe\">\n",
       "  <thead>\n",
       "    <tr style=\"text-align: right;\">\n",
       "      <th></th>\n",
       "      <th>PassengerId</th>\n",
       "      <th>Survived</th>\n",
       "      <th>Pclass</th>\n",
       "      <th>Name</th>\n",
       "      <th>Sex</th>\n",
       "      <th>Age</th>\n",
       "      <th>SibSp</th>\n",
       "      <th>Parch</th>\n",
       "      <th>Ticket</th>\n",
       "      <th>Fare</th>\n",
       "      <th>Cabin</th>\n",
       "      <th>Embarked</th>\n",
       "    </tr>\n",
       "  </thead>\n",
       "  <tbody>\n",
       "    <tr>\n",
       "      <th>0</th>\n",
       "      <td>1</td>\n",
       "      <td>0</td>\n",
       "      <td>3</td>\n",
       "      <td>Braund, Mr. Owen Harris</td>\n",
       "      <td>male</td>\n",
       "      <td>22.0</td>\n",
       "      <td>1</td>\n",
       "      <td>0</td>\n",
       "      <td>A/5 21171</td>\n",
       "      <td>7.2500</td>\n",
       "      <td>NaN</td>\n",
       "      <td>S</td>\n",
       "    </tr>\n",
       "    <tr>\n",
       "      <th>1</th>\n",
       "      <td>2</td>\n",
       "      <td>1</td>\n",
       "      <td>1</td>\n",
       "      <td>Cumings, Mrs. John Bradley (Florence Briggs Th...</td>\n",
       "      <td>female</td>\n",
       "      <td>38.0</td>\n",
       "      <td>1</td>\n",
       "      <td>0</td>\n",
       "      <td>PC 17599</td>\n",
       "      <td>71.2833</td>\n",
       "      <td>C85</td>\n",
       "      <td>C</td>\n",
       "    </tr>\n",
       "    <tr>\n",
       "      <th>2</th>\n",
       "      <td>3</td>\n",
       "      <td>1</td>\n",
       "      <td>3</td>\n",
       "      <td>Heikkinen, Miss. Laina</td>\n",
       "      <td>female</td>\n",
       "      <td>26.0</td>\n",
       "      <td>0</td>\n",
       "      <td>0</td>\n",
       "      <td>STON/O2. 3101282</td>\n",
       "      <td>7.9250</td>\n",
       "      <td>NaN</td>\n",
       "      <td>S</td>\n",
       "    </tr>\n",
       "    <tr>\n",
       "      <th>3</th>\n",
       "      <td>4</td>\n",
       "      <td>1</td>\n",
       "      <td>1</td>\n",
       "      <td>Futrelle, Mrs. Jacques Heath (Lily May Peel)</td>\n",
       "      <td>female</td>\n",
       "      <td>35.0</td>\n",
       "      <td>1</td>\n",
       "      <td>0</td>\n",
       "      <td>113803</td>\n",
       "      <td>53.1000</td>\n",
       "      <td>C123</td>\n",
       "      <td>S</td>\n",
       "    </tr>\n",
       "    <tr>\n",
       "      <th>4</th>\n",
       "      <td>5</td>\n",
       "      <td>0</td>\n",
       "      <td>3</td>\n",
       "      <td>Allen, Mr. William Henry</td>\n",
       "      <td>male</td>\n",
       "      <td>35.0</td>\n",
       "      <td>0</td>\n",
       "      <td>0</td>\n",
       "      <td>373450</td>\n",
       "      <td>8.0500</td>\n",
       "      <td>NaN</td>\n",
       "      <td>S</td>\n",
       "    </tr>\n",
       "    <tr>\n",
       "      <th>5</th>\n",
       "      <td>6</td>\n",
       "      <td>0</td>\n",
       "      <td>3</td>\n",
       "      <td>Moran, Mr. James</td>\n",
       "      <td>male</td>\n",
       "      <td>NaN</td>\n",
       "      <td>0</td>\n",
       "      <td>0</td>\n",
       "      <td>330877</td>\n",
       "      <td>8.4583</td>\n",
       "      <td>NaN</td>\n",
       "      <td>Q</td>\n",
       "    </tr>\n",
       "    <tr>\n",
       "      <th>6</th>\n",
       "      <td>7</td>\n",
       "      <td>0</td>\n",
       "      <td>1</td>\n",
       "      <td>McCarthy, Mr. Timothy J</td>\n",
       "      <td>male</td>\n",
       "      <td>54.0</td>\n",
       "      <td>0</td>\n",
       "      <td>0</td>\n",
       "      <td>17463</td>\n",
       "      <td>51.8625</td>\n",
       "      <td>E46</td>\n",
       "      <td>S</td>\n",
       "    </tr>\n",
       "    <tr>\n",
       "      <th>7</th>\n",
       "      <td>8</td>\n",
       "      <td>0</td>\n",
       "      <td>3</td>\n",
       "      <td>Palsson, Master. Gosta Leonard</td>\n",
       "      <td>male</td>\n",
       "      <td>2.0</td>\n",
       "      <td>3</td>\n",
       "      <td>1</td>\n",
       "      <td>349909</td>\n",
       "      <td>21.0750</td>\n",
       "      <td>NaN</td>\n",
       "      <td>S</td>\n",
       "    </tr>\n",
       "    <tr>\n",
       "      <th>8</th>\n",
       "      <td>9</td>\n",
       "      <td>1</td>\n",
       "      <td>3</td>\n",
       "      <td>Johnson, Mrs. Oscar W (Elisabeth Vilhelmina Berg)</td>\n",
       "      <td>female</td>\n",
       "      <td>27.0</td>\n",
       "      <td>0</td>\n",
       "      <td>2</td>\n",
       "      <td>347742</td>\n",
       "      <td>11.1333</td>\n",
       "      <td>NaN</td>\n",
       "      <td>S</td>\n",
       "    </tr>\n",
       "    <tr>\n",
       "      <th>9</th>\n",
       "      <td>10</td>\n",
       "      <td>1</td>\n",
       "      <td>2</td>\n",
       "      <td>Nasser, Mrs. Nicholas (Adele Achem)</td>\n",
       "      <td>female</td>\n",
       "      <td>14.0</td>\n",
       "      <td>1</td>\n",
       "      <td>0</td>\n",
       "      <td>237736</td>\n",
       "      <td>30.0708</td>\n",
       "      <td>NaN</td>\n",
       "      <td>C</td>\n",
       "    </tr>\n",
       "  </tbody>\n",
       "</table>\n",
       "</div>"
      ],
      "text/plain": [
       "   PassengerId  Survived  Pclass  \\\n",
       "0            1         0       3   \n",
       "1            2         1       1   \n",
       "2            3         1       3   \n",
       "3            4         1       1   \n",
       "4            5         0       3   \n",
       "5            6         0       3   \n",
       "6            7         0       1   \n",
       "7            8         0       3   \n",
       "8            9         1       3   \n",
       "9           10         1       2   \n",
       "\n",
       "                                                Name     Sex   Age  SibSp  \\\n",
       "0                            Braund, Mr. Owen Harris    male  22.0      1   \n",
       "1  Cumings, Mrs. John Bradley (Florence Briggs Th...  female  38.0      1   \n",
       "2                             Heikkinen, Miss. Laina  female  26.0      0   \n",
       "3       Futrelle, Mrs. Jacques Heath (Lily May Peel)  female  35.0      1   \n",
       "4                           Allen, Mr. William Henry    male  35.0      0   \n",
       "5                                   Moran, Mr. James    male   NaN      0   \n",
       "6                            McCarthy, Mr. Timothy J    male  54.0      0   \n",
       "7                     Palsson, Master. Gosta Leonard    male   2.0      3   \n",
       "8  Johnson, Mrs. Oscar W (Elisabeth Vilhelmina Berg)  female  27.0      0   \n",
       "9                Nasser, Mrs. Nicholas (Adele Achem)  female  14.0      1   \n",
       "\n",
       "   Parch            Ticket     Fare Cabin Embarked  \n",
       "0      0         A/5 21171   7.2500   NaN        S  \n",
       "1      0          PC 17599  71.2833   C85        C  \n",
       "2      0  STON/O2. 3101282   7.9250   NaN        S  \n",
       "3      0            113803  53.1000  C123        S  \n",
       "4      0            373450   8.0500   NaN        S  \n",
       "5      0            330877   8.4583   NaN        Q  \n",
       "6      0             17463  51.8625   E46        S  \n",
       "7      1            349909  21.0750   NaN        S  \n",
       "8      2            347742  11.1333   NaN        S  \n",
       "9      0            237736  30.0708   NaN        C  "
      ]
     },
     "execution_count": 2,
     "metadata": {},
     "output_type": "execute_result"
    }
   ],
   "source": [
    "# See the first few rows of the training set\n",
    "train.head(10)"
   ]
  },
  {
   "cell_type": "code",
   "execution_count": 3,
   "metadata": {},
   "outputs": [
    {
     "name": "stdout",
     "output_type": "stream",
     "text": [
      "<class 'pandas.core.frame.DataFrame'>\n",
      "RangeIndex: 891 entries, 0 to 890\n",
      "Data columns (total 12 columns):\n",
      " #   Column       Non-Null Count  Dtype  \n",
      "---  ------       --------------  -----  \n",
      " 0   PassengerId  891 non-null    int64  \n",
      " 1   Survived     891 non-null    int64  \n",
      " 2   Pclass       891 non-null    int64  \n",
      " 3   Name         891 non-null    object \n",
      " 4   Sex          891 non-null    object \n",
      " 5   Age          714 non-null    float64\n",
      " 6   SibSp        891 non-null    int64  \n",
      " 7   Parch        891 non-null    int64  \n",
      " 8   Ticket       891 non-null    object \n",
      " 9   Fare         891 non-null    float64\n",
      " 10  Cabin        204 non-null    object \n",
      " 11  Embarked     889 non-null    object \n",
      "dtypes: float64(2), int64(5), object(5)\n",
      "memory usage: 83.7+ KB\n"
     ]
    }
   ],
   "source": [
    "train.info()"
   ]
  },
  {
   "cell_type": "code",
   "execution_count": 4,
   "metadata": {},
   "outputs": [],
   "source": [
    "# Defining the training set predictor variables\n",
    "X_train = train[['PassengerId', 'Pclass', 'Name', 'Sex', 'Age', 'SibSp',\n",
    "       'Parch', 'Ticket', 'Fare', 'Cabin', 'Embarked']]\n",
    "# Defining the training set target variable\n",
    "y_train = train[[\"Survived\"]]"
   ]
  },
  {
   "cell_type": "code",
   "execution_count": 5,
   "metadata": {},
   "outputs": [
    {
     "data": {
      "image/png": "[encoded data removed]",
      "text/plain": [
       "<Figure size 1080x864 with 6 Axes>"
      ]
     },
     "metadata": {
      "needs_background": "light"
     },
     "output_type": "display_data"
    }
   ],
   "source": [
    "# Let's look at some distributions, first of the numerical distributions\n",
    "X_train.hist(bins = 25, figsize = (15, 12))\n",
    "plt.show()"
   ]
  },
  {
   "cell_type": "code",
   "execution_count": 6,
   "metadata": {},
   "outputs": [
    {
     "data": {
      "text/html": [
       "<div>\n",
       "<style scoped>\n",
       "    .dataframe tbody tr th:only-of-type {\n",
       "        vertical-align: middle;\n",
       "    }\n",
       "\n",
       "    .dataframe tbody tr th {\n",
       "        vertical-align: top;\n",
       "    }\n",
       "\n",
       "    .dataframe thead th {\n",
       "        text-align: right;\n",
       "    }\n",
       "</style>\n",
       "<table border=\"1\" class=\"dataframe\">\n",
       "  <thead>\n",
       "    <tr style=\"text-align: right;\">\n",
       "      <th></th>\n",
       "      <th>PassengerId</th>\n",
       "      <th>Pclass</th>\n",
       "      <th>Age</th>\n",
       "      <th>SibSp</th>\n",
       "      <th>Parch</th>\n",
       "      <th>Fare</th>\n",
       "    </tr>\n",
       "  </thead>\n",
       "  <tbody>\n",
       "    <tr>\n",
       "      <th>count</th>\n",
       "      <td>891.000000</td>\n",
       "      <td>891.000000</td>\n",
       "      <td>714.000000</td>\n",
       "      <td>891.000000</td>\n",
       "      <td>891.000000</td>\n",
       "      <td>891.000000</td>\n",
       "    </tr>\n",
       "    <tr>\n",
       "      <th>mean</th>\n",
       "      <td>446.000000</td>\n",
       "      <td>2.308642</td>\n",
       "      <td>29.699118</td>\n",
       "      <td>0.523008</td>\n",
       "      <td>0.381594</td>\n",
       "      <td>32.204208</td>\n",
       "    </tr>\n",
       "    <tr>\n",
       "      <th>std</th>\n",
       "      <td>257.353842</td>\n",
       "      <td>0.836071</td>\n",
       "      <td>14.526497</td>\n",
       "      <td>1.102743</td>\n",
       "      <td>0.806057</td>\n",
       "      <td>49.693429</td>\n",
       "    </tr>\n",
       "    <tr>\n",
       "      <th>min</th>\n",
       "      <td>1.000000</td>\n",
       "      <td>1.000000</td>\n",
       "      <td>0.420000</td>\n",
       "      <td>0.000000</td>\n",
       "      <td>0.000000</td>\n",
       "      <td>0.000000</td>\n",
       "    </tr>\n",
       "    <tr>\n",
       "      <th>25%</th>\n",
       "      <td>223.500000</td>\n",
       "      <td>2.000000</td>\n",
       "      <td>20.125000</td>\n",
       "      <td>0.000000</td>\n",
       "      <td>0.000000</td>\n",
       "      <td>7.910400</td>\n",
       "    </tr>\n",
       "    <tr>\n",
       "      <th>50%</th>\n",
       "      <td>446.000000</td>\n",
       "      <td>3.000000</td>\n",
       "      <td>28.000000</td>\n",
       "      <td>0.000000</td>\n",
       "      <td>0.000000</td>\n",
       "      <td>14.454200</td>\n",
       "    </tr>\n",
       "    <tr>\n",
       "      <th>75%</th>\n",
       "      <td>668.500000</td>\n",
       "      <td>3.000000</td>\n",
       "      <td>38.000000</td>\n",
       "      <td>1.000000</td>\n",
       "      <td>0.000000</td>\n",
       "      <td>31.000000</td>\n",
       "    </tr>\n",
       "    <tr>\n",
       "      <th>max</th>\n",
       "      <td>891.000000</td>\n",
       "      <td>3.000000</td>\n",
       "      <td>80.000000</td>\n",
       "      <td>8.000000</td>\n",
       "      <td>6.000000</td>\n",
       "      <td>512.329200</td>\n",
       "    </tr>\n",
       "  </tbody>\n",
       "</table>\n",
       "</div>"
      ],
      "text/plain": [
       "       PassengerId      Pclass         Age       SibSp       Parch        Fare\n",
       "count   891.000000  891.000000  714.000000  891.000000  891.000000  891.000000\n",
       "mean    446.000000    2.308642   29.699118    0.523008    0.381594   32.204208\n",
       "std     257.353842    0.836071   14.526497    1.102743    0.806057   49.693429\n",
       "min       1.000000    1.000000    0.420000    0.000000    0.000000    0.000000\n",
       "25%     223.500000    2.000000   20.125000    0.000000    0.000000    7.910400\n",
       "50%     446.000000    3.000000   28.000000    0.000000    0.000000   14.454200\n",
       "75%     668.500000    3.000000   38.000000    1.000000    0.000000   31.000000\n",
       "max     891.000000    3.000000   80.000000    8.000000    6.000000  512.329200"
      ]
     },
     "execution_count": 6,
     "metadata": {},
     "output_type": "execute_result"
    }
   ],
   "source": [
    "X_train.describe()"
   ]
  },
  {
   "cell_type": "markdown",
   "metadata": {},
   "source": [
    "What do we see:\n",
    "1. The distribution of the passenger's ages appears to be right skewed. The mean/median of these distributions is far the the left of the distribution. There is a large amount of passengers who are younger children (see spike on the right), so we may want to make sure that children get an indicator of some sort. We also see that based on the description, the ages of some 177 people are missing. We probably want to look at this a bit later and try impute the ages.\n",
    "2. We see that most of the passengers are riding in 3<sup>rd</sup> class/steerage. Given the year of this tragedy, this probably meant most of the 3<sup>rd</sup> (and likely the 2<sup>nd</sup>), did not survive.\n",
    "3. We see that most of the passengers paid low fares, which probably negatively correlates with the class passengers on the Titanic. We will keep that in mind when analyzing this data (**covariate plot**).\n",
    "4. Most the people on board did not have children or parents on board (right skewed). We may want to use this as an indicator instead, but for now, we will keep this as is.\n",
    "5. That being said, a larger portion of the passengers did travel accompanied by a spouse or sibling compared to parents/children, but the distribution is still heavily right skewed.\n",
    "\n",
    "We also want to deal with the categorical data in our dataset and convert it to numerical data so that it can be used in whatever model we selected. First let's look at some counts of these categorical variables:"
   ]
  },
  {
   "cell_type": "code",
   "execution_count": 7,
   "metadata": {},
   "outputs": [
    {
     "data": {
      "text/plain": [
       "male      577\n",
       "female    314\n",
       "Name: Sex, dtype: int64"
      ]
     },
     "execution_count": 7,
     "metadata": {},
     "output_type": "execute_result"
    }
   ],
   "source": [
    "X_train.Sex.value_counts()"
   ]
  },
  {
   "cell_type": "markdown",
   "metadata": {},
   "source": [
    "We have way more males than females on the RMS Titanic:"
   ]
  },
  {
   "cell_type": "code",
   "execution_count": 8,
   "metadata": {},
   "outputs": [
    {
     "data": {
      "text/plain": [
       "1601        7\n",
       "CA. 2343    7\n",
       "347082      7\n",
       "CA 2144     6\n",
       "347088      6\n",
       "           ..\n",
       "113056      1\n",
       "382651      1\n",
       "240929      1\n",
       "345778      1\n",
       "17463       1\n",
       "Name: Ticket, Length: 681, dtype: int64"
      ]
     },
     "execution_count": 8,
     "metadata": {},
     "output_type": "execute_result"
    }
   ],
   "source": [
    "X_train.Ticket.value_counts()"
   ]
  },
  {
   "cell_type": "markdown",
   "metadata": {},
   "source": [
    "Odd variable, not sure if this should be used in our model unless this is somehow indicative of something else (cabin type, number of people on the same ticket, etc.). However, this may be captured by some covariates, so I won't touch it yet."
   ]
  },
  {
   "cell_type": "code",
   "execution_count": 9,
   "metadata": {},
   "outputs": [
    {
     "data": {
      "text/plain": [
       "C23 C25 C27    4\n",
       "G6             4\n",
       "B96 B98        4\n",
       "E101           3\n",
       "F33            3\n",
       "              ..\n",
       "D21            1\n",
       "C106           1\n",
       "C32            1\n",
       "D15            1\n",
       "E68            1\n",
       "Name: Cabin, Length: 147, dtype: int64"
      ]
     },
     "execution_count": 9,
     "metadata": {},
     "output_type": "execute_result"
    }
   ],
   "source": [
    "X_train.Cabin.value_counts()"
   ]
  },
  {
   "cell_type": "markdown",
   "metadata": {},
   "source": [
    "Similar to the tickets, not entirely sure if this will be relevant, so I won't touch that either at the moment. Maybe we could create indicators for people who have large amounts of people assigned to a cabin (similar thought for tickets)."
   ]
  },
  {
   "cell_type": "code",
   "execution_count": 10,
   "metadata": {},
   "outputs": [
    {
     "data": {
      "text/plain": [
       "S    644\n",
       "C    168\n",
       "Q     77\n",
       "Name: Embarked, dtype: int64"
      ]
     },
     "execution_count": 10,
     "metadata": {},
     "output_type": "execute_result"
    }
   ],
   "source": [
    "X_train.Embarked.value_counts()"
   ]
  },
  {
   "cell_type": "code",
   "execution_count": 11,
   "metadata": {},
   "outputs": [
    {
     "data": {
      "text/plain": [
       "Survived       1.000000\n",
       "Fare           0.257307\n",
       "Parch          0.081629\n",
       "PassengerId   -0.005007\n",
       "SibSp         -0.035322\n",
       "Age           -0.077221\n",
       "Pclass        -0.338481\n",
       "Name: Survived, dtype: float64"
      ]
     },
     "execution_count": 11,
     "metadata": {},
     "output_type": "execute_result"
    }
   ],
   "source": [
    "# Let's see some correlations\n",
    "corr_matrix = train.corr()\n",
    "corr_matrix[\"Survived\"].sort_values(ascending = False)"
   ]
  },
  {
   "cell_type": "code",
   "execution_count": 12,
   "metadata": {},
   "outputs": [
    {
     "data": {
      "text/plain": [
       "Fare           1.000000\n",
       "Survived       0.257307\n",
       "Parch          0.216225\n",
       "SibSp          0.159651\n",
       "Age            0.096067\n",
       "PassengerId    0.012658\n",
       "Pclass        -0.549500\n",
       "Name: Fare, dtype: float64"
      ]
     },
     "execution_count": 12,
     "metadata": {},
     "output_type": "execute_result"
    }
   ],
   "source": [
    "corr_matrix[\"Fare\"].sort_values(ascending = False)"
   ]
  },
  {
   "cell_type": "code",
   "execution_count": 13,
   "metadata": {},
   "outputs": [
    {
     "data": {
      "image/png": "[encoded data removed]",
      "text/plain": [
       "<Figure size 864x576 with 25 Axes>"
      ]
     },
     "metadata": {
      "needs_background": "light"
     },
     "output_type": "display_data"
    }
   ],
   "source": [
    "attribs = [\"Survived\", \"Fare\", \"Parch\", \"Age\", \"Pclass\"]\n",
    "pd.plotting.scatter_matrix(train[attribs], figsize = (12, 8))\n",
    "plt.show()"
   ]
  },
  {
   "cell_type": "code",
   "execution_count": 14,
   "metadata": {},
   "outputs": [],
   "source": [
    "X_train_cat = X_train[[\"Sex\", \"Embarked\", \"Pclass\"]]\n",
    "X_train_cat_pc_ohe = pd.get_dummies(X_train_cat.Pclass.astype(str))\n",
    "X_train_cat_sex_ohe = pd.DataFrame(X_train_cat.Sex.str.get_dummies())\n",
    "X_train_cat_em_ohe = pd.DataFrame(X_train_cat.Embarked.str.get_dummies())"
   ]
  },
  {
   "cell_type": "code",
   "execution_count": 15,
   "metadata": {},
   "outputs": [
    {
     "data": {
      "text/html": [
       "<div>\n",
       "<style scoped>\n",
       "    .dataframe tbody tr th:only-of-type {\n",
       "        vertical-align: middle;\n",
       "    }\n",
       "\n",
       "    .dataframe tbody tr th {\n",
       "        vertical-align: top;\n",
       "    }\n",
       "\n",
       "    .dataframe thead th {\n",
       "        text-align: right;\n",
       "    }\n",
       "</style>\n",
       "<table border=\"1\" class=\"dataframe\">\n",
       "  <thead>\n",
       "    <tr style=\"text-align: right;\">\n",
       "      <th></th>\n",
       "      <th>Cherbourg</th>\n",
       "      <th>Queenstown</th>\n",
       "      <th>Southampton</th>\n",
       "    </tr>\n",
       "  </thead>\n",
       "  <tbody>\n",
       "    <tr>\n",
       "      <th>0</th>\n",
       "      <td>0</td>\n",
       "      <td>0</td>\n",
       "      <td>1</td>\n",
       "    </tr>\n",
       "    <tr>\n",
       "      <th>1</th>\n",
       "      <td>1</td>\n",
       "      <td>0</td>\n",
       "      <td>0</td>\n",
       "    </tr>\n",
       "    <tr>\n",
       "      <th>2</th>\n",
       "      <td>0</td>\n",
       "      <td>0</td>\n",
       "      <td>1</td>\n",
       "    </tr>\n",
       "    <tr>\n",
       "      <th>3</th>\n",
       "      <td>0</td>\n",
       "      <td>0</td>\n",
       "      <td>1</td>\n",
       "    </tr>\n",
       "    <tr>\n",
       "      <th>4</th>\n",
       "      <td>0</td>\n",
       "      <td>0</td>\n",
       "      <td>1</td>\n",
       "    </tr>\n",
       "    <tr>\n",
       "      <th>...</th>\n",
       "      <td>...</td>\n",
       "      <td>...</td>\n",
       "      <td>...</td>\n",
       "    </tr>\n",
       "    <tr>\n",
       "      <th>886</th>\n",
       "      <td>0</td>\n",
       "      <td>0</td>\n",
       "      <td>1</td>\n",
       "    </tr>\n",
       "    <tr>\n",
       "      <th>887</th>\n",
       "      <td>0</td>\n",
       "      <td>0</td>\n",
       "      <td>1</td>\n",
       "    </tr>\n",
       "    <tr>\n",
       "      <th>888</th>\n",
       "      <td>0</td>\n",
       "      <td>0</td>\n",
       "      <td>1</td>\n",
       "    </tr>\n",
       "    <tr>\n",
       "      <th>889</th>\n",
       "      <td>1</td>\n",
       "      <td>0</td>\n",
       "      <td>0</td>\n",
       "    </tr>\n",
       "    <tr>\n",
       "      <th>890</th>\n",
       "      <td>0</td>\n",
       "      <td>1</td>\n",
       "      <td>0</td>\n",
       "    </tr>\n",
       "  </tbody>\n",
       "</table>\n",
       "<p>891 rows × 3 columns</p>\n",
       "</div>"
      ],
      "text/plain": [
       "     Cherbourg  Queenstown  Southampton\n",
       "0            0           0            1\n",
       "1            1           0            0\n",
       "2            0           0            1\n",
       "3            0           0            1\n",
       "4            0           0            1\n",
       "..         ...         ...          ...\n",
       "886          0           0            1\n",
       "887          0           0            1\n",
       "888          0           0            1\n",
       "889          1           0            0\n",
       "890          0           1            0\n",
       "\n",
       "[891 rows x 3 columns]"
      ]
     },
     "execution_count": 15,
     "metadata": {},
     "output_type": "execute_result"
    }
   ],
   "source": [
    "X_train_cat_em_ohe = X_train_cat_em_ohe.rename(columns = {\"S\": \"Southampton\", \n",
    "                                                          \"C\": \"Cherbourg\",\n",
    "                                                          \"Q\": \"Queenstown\"})\n",
    "X_train_cat_em_ohe"
   ]
  },
  {
   "cell_type": "code",
   "execution_count": 16,
   "metadata": {},
   "outputs": [
    {
     "data": {
      "text/html": [
       "<div>\n",
       "<style scoped>\n",
       "    .dataframe tbody tr th:only-of-type {\n",
       "        vertical-align: middle;\n",
       "    }\n",
       "\n",
       "    .dataframe tbody tr th {\n",
       "        vertical-align: top;\n",
       "    }\n",
       "\n",
       "    .dataframe thead th {\n",
       "        text-align: right;\n",
       "    }\n",
       "</style>\n",
       "<table border=\"1\" class=\"dataframe\">\n",
       "  <thead>\n",
       "    <tr style=\"text-align: right;\">\n",
       "      <th></th>\n",
       "      <th>First</th>\n",
       "      <th>Second</th>\n",
       "      <th>Third</th>\n",
       "    </tr>\n",
       "  </thead>\n",
       "  <tbody>\n",
       "    <tr>\n",
       "      <th>0</th>\n",
       "      <td>0</td>\n",
       "      <td>0</td>\n",
       "      <td>1</td>\n",
       "    </tr>\n",
       "    <tr>\n",
       "      <th>1</th>\n",
       "      <td>1</td>\n",
       "      <td>0</td>\n",
       "      <td>0</td>\n",
       "    </tr>\n",
       "    <tr>\n",
       "      <th>2</th>\n",
       "      <td>0</td>\n",
       "      <td>0</td>\n",
       "      <td>1</td>\n",
       "    </tr>\n",
       "    <tr>\n",
       "      <th>3</th>\n",
       "      <td>1</td>\n",
       "      <td>0</td>\n",
       "      <td>0</td>\n",
       "    </tr>\n",
       "    <tr>\n",
       "      <th>4</th>\n",
       "      <td>0</td>\n",
       "      <td>0</td>\n",
       "      <td>1</td>\n",
       "    </tr>\n",
       "    <tr>\n",
       "      <th>...</th>\n",
       "      <td>...</td>\n",
       "      <td>...</td>\n",
       "      <td>...</td>\n",
       "    </tr>\n",
       "    <tr>\n",
       "      <th>886</th>\n",
       "      <td>0</td>\n",
       "      <td>1</td>\n",
       "      <td>0</td>\n",
       "    </tr>\n",
       "    <tr>\n",
       "      <th>887</th>\n",
       "      <td>1</td>\n",
       "      <td>0</td>\n",
       "      <td>0</td>\n",
       "    </tr>\n",
       "    <tr>\n",
       "      <th>888</th>\n",
       "      <td>0</td>\n",
       "      <td>0</td>\n",
       "      <td>1</td>\n",
       "    </tr>\n",
       "    <tr>\n",
       "      <th>889</th>\n",
       "      <td>1</td>\n",
       "      <td>0</td>\n",
       "      <td>0</td>\n",
       "    </tr>\n",
       "    <tr>\n",
       "      <th>890</th>\n",
       "      <td>0</td>\n",
       "      <td>0</td>\n",
       "      <td>1</td>\n",
       "    </tr>\n",
       "  </tbody>\n",
       "</table>\n",
       "<p>891 rows × 3 columns</p>\n",
       "</div>"
      ],
      "text/plain": [
       "     First  Second  Third\n",
       "0        0       0      1\n",
       "1        1       0      0\n",
       "2        0       0      1\n",
       "3        1       0      0\n",
       "4        0       0      1\n",
       "..     ...     ...    ...\n",
       "886      0       1      0\n",
       "887      1       0      0\n",
       "888      0       0      1\n",
       "889      1       0      0\n",
       "890      0       0      1\n",
       "\n",
       "[891 rows x 3 columns]"
      ]
     },
     "execution_count": 16,
     "metadata": {},
     "output_type": "execute_result"
    }
   ],
   "source": [
    "X_train_cat_pc_ohe = X_train_cat_pc_ohe.rename(columns = {\"1\": \"First\",\n",
    "                                                         \"2\": \"Second\",\n",
    "                                                         \"3\": \"Third\"})\n",
    "X_train_cat_pc_ohe"
   ]
  },
  {
   "cell_type": "code",
   "execution_count": 17,
   "metadata": {},
   "outputs": [
    {
     "data": {
      "text/html": [
       "<div>\n",
       "<style scoped>\n",
       "    .dataframe tbody tr th:only-of-type {\n",
       "        vertical-align: middle;\n",
       "    }\n",
       "\n",
       "    .dataframe tbody tr th {\n",
       "        vertical-align: top;\n",
       "    }\n",
       "\n",
       "    .dataframe thead th {\n",
       "        text-align: right;\n",
       "    }\n",
       "</style>\n",
       "<table border=\"1\" class=\"dataframe\">\n",
       "  <thead>\n",
       "    <tr style=\"text-align: right;\">\n",
       "      <th></th>\n",
       "      <th>Cherbourg</th>\n",
       "      <th>Queenstown</th>\n",
       "      <th>Southampton</th>\n",
       "      <th>female</th>\n",
       "      <th>male</th>\n",
       "      <th>First</th>\n",
       "      <th>Second</th>\n",
       "      <th>Third</th>\n",
       "    </tr>\n",
       "  </thead>\n",
       "  <tbody>\n",
       "    <tr>\n",
       "      <th>0</th>\n",
       "      <td>0</td>\n",
       "      <td>0</td>\n",
       "      <td>1</td>\n",
       "      <td>0</td>\n",
       "      <td>1</td>\n",
       "      <td>0</td>\n",
       "      <td>0</td>\n",
       "      <td>1</td>\n",
       "    </tr>\n",
       "    <tr>\n",
       "      <th>1</th>\n",
       "      <td>1</td>\n",
       "      <td>0</td>\n",
       "      <td>0</td>\n",
       "      <td>1</td>\n",
       "      <td>0</td>\n",
       "      <td>1</td>\n",
       "      <td>0</td>\n",
       "      <td>0</td>\n",
       "    </tr>\n",
       "    <tr>\n",
       "      <th>2</th>\n",
       "      <td>0</td>\n",
       "      <td>0</td>\n",
       "      <td>1</td>\n",
       "      <td>1</td>\n",
       "      <td>0</td>\n",
       "      <td>0</td>\n",
       "      <td>0</td>\n",
       "      <td>1</td>\n",
       "    </tr>\n",
       "    <tr>\n",
       "      <th>3</th>\n",
       "      <td>0</td>\n",
       "      <td>0</td>\n",
       "      <td>1</td>\n",
       "      <td>1</td>\n",
       "      <td>0</td>\n",
       "      <td>1</td>\n",
       "      <td>0</td>\n",
       "      <td>0</td>\n",
       "    </tr>\n",
       "    <tr>\n",
       "      <th>4</th>\n",
       "      <td>0</td>\n",
       "      <td>0</td>\n",
       "      <td>1</td>\n",
       "      <td>0</td>\n",
       "      <td>1</td>\n",
       "      <td>0</td>\n",
       "      <td>0</td>\n",
       "      <td>1</td>\n",
       "    </tr>\n",
       "    <tr>\n",
       "      <th>...</th>\n",
       "      <td>...</td>\n",
       "      <td>...</td>\n",
       "      <td>...</td>\n",
       "      <td>...</td>\n",
       "      <td>...</td>\n",
       "      <td>...</td>\n",
       "      <td>...</td>\n",
       "      <td>...</td>\n",
       "    </tr>\n",
       "    <tr>\n",
       "      <th>886</th>\n",
       "      <td>0</td>\n",
       "      <td>0</td>\n",
       "      <td>1</td>\n",
       "      <td>0</td>\n",
       "      <td>1</td>\n",
       "      <td>0</td>\n",
       "      <td>1</td>\n",
       "      <td>0</td>\n",
       "    </tr>\n",
       "    <tr>\n",
       "      <th>887</th>\n",
       "      <td>0</td>\n",
       "      <td>0</td>\n",
       "      <td>1</td>\n",
       "      <td>1</td>\n",
       "      <td>0</td>\n",
       "      <td>1</td>\n",
       "      <td>0</td>\n",
       "      <td>0</td>\n",
       "    </tr>\n",
       "    <tr>\n",
       "      <th>888</th>\n",
       "      <td>0</td>\n",
       "      <td>0</td>\n",
       "      <td>1</td>\n",
       "      <td>1</td>\n",
       "      <td>0</td>\n",
       "      <td>0</td>\n",
       "      <td>0</td>\n",
       "      <td>1</td>\n",
       "    </tr>\n",
       "    <tr>\n",
       "      <th>889</th>\n",
       "      <td>1</td>\n",
       "      <td>0</td>\n",
       "      <td>0</td>\n",
       "      <td>0</td>\n",
       "      <td>1</td>\n",
       "      <td>1</td>\n",
       "      <td>0</td>\n",
       "      <td>0</td>\n",
       "    </tr>\n",
       "    <tr>\n",
       "      <th>890</th>\n",
       "      <td>0</td>\n",
       "      <td>1</td>\n",
       "      <td>0</td>\n",
       "      <td>0</td>\n",
       "      <td>1</td>\n",
       "      <td>0</td>\n",
       "      <td>0</td>\n",
       "      <td>1</td>\n",
       "    </tr>\n",
       "  </tbody>\n",
       "</table>\n",
       "<p>891 rows × 8 columns</p>\n",
       "</div>"
      ],
      "text/plain": [
       "     Cherbourg  Queenstown  Southampton  female  male  First  Second  Third\n",
       "0            0           0            1       0     1      0       0      1\n",
       "1            1           0            0       1     0      1       0      0\n",
       "2            0           0            1       1     0      0       0      1\n",
       "3            0           0            1       1     0      1       0      0\n",
       "4            0           0            1       0     1      0       0      1\n",
       "..         ...         ...          ...     ...   ...    ...     ...    ...\n",
       "886          0           0            1       0     1      0       1      0\n",
       "887          0           0            1       1     0      1       0      0\n",
       "888          0           0            1       1     0      0       0      1\n",
       "889          1           0            0       0     1      1       0      0\n",
       "890          0           1            0       0     1      0       0      1\n",
       "\n",
       "[891 rows x 8 columns]"
      ]
     },
     "execution_count": 17,
     "metadata": {},
     "output_type": "execute_result"
    }
   ],
   "source": [
    "X_train_cat = pd.concat([X_train_cat_em_ohe,\n",
    "                         X_train_cat_sex_ohe,\n",
    "                        X_train_cat_pc_ohe], axis = 1)\n",
    "X_train_cat"
   ]
  },
  {
   "cell_type": "markdown",
   "metadata": {},
   "source": [
    "Let's start working with the numerical data. We should note that `Pclass` is a categorical variable that was numeric, so it was converted above."
   ]
  },
  {
   "cell_type": "code",
   "execution_count": 18,
   "metadata": {},
   "outputs": [],
   "source": [
    "# Let's start working with the numerical data\n",
    "X_train_num = X_train[['Age', 'SibSp', 'Parch', 'Fare']]"
   ]
  },
  {
   "cell_type": "code",
   "execution_count": 19,
   "metadata": {},
   "outputs": [
    {
     "data": {
      "text/plain": [
       "array([[-0.58713784,  0.43279337, -0.47367361, -0.50244517],\n",
       "       [ 0.58705273,  0.43279337, -0.47367361,  0.78684529],\n",
       "       [-0.2935902 , -0.4745452 , -0.47367361, -0.48885426],\n",
       "       ...,\n",
       "       [-0.22789026,  0.43279337,  2.00893337, -0.17626324],\n",
       "       [-0.2935902 , -0.4745452 , -0.47367361, -0.04438104],\n",
       "       [ 0.14673127, -0.4745452 , -0.47367361, -0.49237783]])"
      ]
     },
     "execution_count": 19,
     "metadata": {},
     "output_type": "execute_result"
    }
   ],
   "source": [
    "from sklearn.pipeline import Pipeline\n",
    "from sklearn.preprocessing import StandardScaler, OneHotEncoder\n",
    "from sklearn.impute import KNNImputer, SimpleImputer\n",
    "\n",
    "num_pipeline = Pipeline([\n",
    "    (\"num_imputer\", KNNImputer(n_neighbors=5, weights=\"distance\")),\n",
    "    (\"scaler\", StandardScaler())\n",
    "])\n",
    "\n",
    "X_train_num_tr = num_pipeline.fit_transform(X_train_num)\n",
    "X_train_num_tr"
   ]
  },
  {
   "cell_type": "code",
   "execution_count": 20,
   "metadata": {},
   "outputs": [
    {
     "data": {
      "text/plain": [
       "(891, 8)"
      ]
     },
     "execution_count": 20,
     "metadata": {},
     "output_type": "execute_result"
    }
   ],
   "source": [
    "cat_pipeline = Pipeline([\n",
    "   (\"cat_imputer\", SimpleImputer(strategy = \"most_frequent\")),\n",
    "   (\"encoder\", OneHotEncoder())\n",
    "])\n",
    "\n",
    "X_train_cat = X_train[[\"Sex\", \"Embarked\", \"Pclass\"]]\n",
    "X_train_cat_tr = cat_pipeline.fit_transform(X_train_cat)\n",
    "X_train_cat_tr.shape"
   ]
  },
  {
   "cell_type": "markdown",
   "metadata": {},
   "source": [
    "Okay, the numeric pipeline seems to work. Let's add the categorical transformation."
   ]
  },
  {
   "cell_type": "code",
   "execution_count": 21,
   "metadata": {},
   "outputs": [
    {
     "data": {
      "text/plain": [
       "(891, 12)"
      ]
     },
     "execution_count": 21,
     "metadata": {},
     "output_type": "execute_result"
    }
   ],
   "source": [
    "from sklearn.compose import ColumnTransformer\n",
    "\n",
    "num_attribs = ['Age', 'SibSp', 'Parch', 'Fare']\n",
    "cat_attribs = [\"Sex\", \"Embarked\", \"Pclass\"]\n",
    "\n",
    "# Create a pipeline that can deal with all of these attributes\n",
    "full_pipeline = ColumnTransformer([\n",
    "    (\"numeric\", num_pipeline, num_attribs),\n",
    "    (\"categorical\", cat_pipeline, cat_attribs)\n",
    "])\n",
    "\n",
    "# Prepare the housing_data\n",
    "X_train_prepared = full_pipeline.fit_transform(X_train)\n",
    "X_train_prepared.shape"
   ]
  },
  {
   "cell_type": "code",
   "execution_count": 22,
   "metadata": {},
   "outputs": [
    {
     "data": {
      "text/plain": [
       "array([[-0.58713784,  0.43279337, -0.47367361, ...,  0.        ,\n",
       "         0.        ,  1.        ],\n",
       "       [ 0.58705273,  0.43279337, -0.47367361, ...,  1.        ,\n",
       "         0.        ,  0.        ],\n",
       "       [-0.2935902 , -0.4745452 , -0.47367361, ...,  0.        ,\n",
       "         0.        ,  1.        ],\n",
       "       ...,\n",
       "       [-0.22789026,  0.43279337,  2.00893337, ...,  0.        ,\n",
       "         0.        ,  1.        ],\n",
       "       [-0.2935902 , -0.4745452 , -0.47367361, ...,  1.        ,\n",
       "         0.        ,  0.        ],\n",
       "       [ 0.14673127, -0.4745452 , -0.47367361, ...,  0.        ,\n",
       "         0.        ,  1.        ]])"
      ]
     },
     "execution_count": 22,
     "metadata": {},
     "output_type": "execute_result"
    }
   ],
   "source": [
    "X_train_prepared"
   ]
  },
  {
   "cell_type": "markdown",
   "metadata": {},
   "source": [
    "Looks like our training set worked!"
   ]
  },
  {
   "cell_type": "markdown",
   "metadata": {},
   "source": [
    "### Let's make a model!\n"
   ]
  },
  {
   "cell_type": "code",
   "execution_count": 23,
   "metadata": {},
   "outputs": [
    {
     "name": "stdout",
     "output_type": "stream",
     "text": [
      "Fitting 5 folds for each of 200 candidates, totalling 1000 fits\n"
     ]
    },
    {
     "name": "stderr",
     "output_type": "stream",
     "text": [
      "[Parallel(n_jobs=3)]: Using backend LokyBackend with 3 concurrent workers.\n",
      "[Parallel(n_jobs=3)]: Done  35 tasks      | elapsed:    5.8s\n",
      "[Parallel(n_jobs=3)]: Done 156 tasks      | elapsed:   22.5s\n",
      "[Parallel(n_jobs=3)]: Done 359 tasks      | elapsed:   53.4s\n",
      "[Parallel(n_jobs=3)]: Done 642 tasks      | elapsed:  1.7min\n",
      "[Parallel(n_jobs=3)]: Done 1000 out of 1000 | elapsed:  2.7min finished\n",
      "/home/evan/anaconda3/lib/python3.8/site-packages/sklearn/model_selection/_search.py:765: DataConversionWarning: A column-vector y was passed when a 1d array was expected. Please change the shape of y to (n_samples,), for example using ravel().\n",
      "  self.best_estimator_.fit(X, y, **fit_params)\n"
     ]
    },
    {
     "data": {
      "text/plain": [
       "RandomizedSearchCV(cv=5, estimator=RandomForestClassifier(random_state=0),\n",
       "                   n_iter=200, n_jobs=3,\n",
       "                   param_distributions={'max_depth': <scipy.stats._distn_infrastructure.rv_frozen object at 0x7f73b95cdcd0>,\n",
       "                                        'n_estimators': <scipy.stats._distn_infrastructure.rv_frozen object at 0x7f73d5c24b20>},\n",
       "                   scoring='accuracy', verbose=2)"
      ]
     },
     "execution_count": 23,
     "metadata": {},
     "output_type": "execute_result"
    }
   ],
   "source": [
    "from sklearn.ensemble import RandomForestClassifier\n",
    "from sklearn.model_selection import RandomizedSearchCV\n",
    "from sklearn.metrics import accuracy_score\n",
    "from scipy.stats import binom, randint\n",
    "\n",
    "forest_clf = RandomForestClassifier(random_state=0)\n",
    "\n",
    "param_dist =  dict(n_estimators = randint(low = 50, high = 400),\n",
    "                  max_depth = binom(n = 24, p = 0.5))\n",
    "\n",
    "forest_search = RandomizedSearchCV(forest_clf, param_distributions=param_dist, n_iter = 200,\n",
    "                                 cv = 5, scoring = \"accuracy\", verbose = 2, n_jobs = 3)\n",
    "\n",
    "forest_search.fit(X_train_prepared, y_train)"
   ]
  },
  {
   "cell_type": "code",
   "execution_count": 24,
   "metadata": {},
   "outputs": [
    {
     "name": "stdout",
     "output_type": "stream",
     "text": [
      "Accuracy: 0.8047203565375682 {'max_depth': 17, 'n_estimators': 280}\n",
      "Accuracy: 0.8204506936162199 {'max_depth': 11, 'n_estimators': 359}\n",
      "Accuracy: 0.817079907099366 {'max_depth': 12, 'n_estimators': 255}\n",
      "Accuracy: 0.8226853304877284 {'max_depth': 11, 'n_estimators': 89}\n",
      "Accuracy: 0.8193208210407382 {'max_depth': 12, 'n_estimators': 202}\n",
      "Accuracy: 0.8215680120519743 {'max_depth': 11, 'n_estimators': 75}\n",
      "Accuracy: 0.8170736300295023 {'max_depth': 12, 'n_estimators': 190}\n",
      "Accuracy: 0.8249325214989642 {'max_depth': 11, 'n_estimators': 114}\n",
      "Accuracy: 0.8114619295712762 {'max_depth': 15, 'n_estimators': 165}\n",
      "Accuracy: 0.8080848659845584 {'max_depth': 14, 'n_estimators': 69}\n",
      "0.8339212855439081 RandomForestClassifier(max_depth=8, n_estimators=221, random_state=0)\n"
     ]
    }
   ],
   "source": [
    "# Let's see the results of our models' training\n",
    "rf_results = forest_search.cv_results_\n",
    "\n",
    "for acc, params in zip(rf_results[\"mean_test_score\"][:10], rf_results[\"params\"][:10]):\n",
    "    print(\"Accuracy:\", acc, params)\n",
    "    \n",
    "print(forest_search.best_score_, forest_search.best_estimator_)"
   ]
  },
  {
   "cell_type": "markdown",
   "metadata": {},
   "source": [
    "So, we only reach 82.9% accuracy. Not fantastic for an ensemble model...\n",
    "\n",
    "Let's try a logistic regression model and a SVM."
   ]
  },
  {
   "cell_type": "code",
   "execution_count": 26,
   "metadata": {},
   "outputs": [
    {
     "name": "stdout",
     "output_type": "stream",
     "text": [
      "Fitting 5 folds for each of 200 candidates, totalling 1000 fits\n"
     ]
    },
    {
     "name": "stderr",
     "output_type": "stream",
     "text": [
      "[Parallel(n_jobs=3)]: Using backend LokyBackend with 3 concurrent workers.\n",
      "[Parallel(n_jobs=3)]: Done 178 tasks      | elapsed:    1.4s\n",
      "[Parallel(n_jobs=3)]: Done 1000 out of 1000 | elapsed:    7.6s finished\n",
      "/home/evan/anaconda3/lib/python3.8/site-packages/sklearn/utils/validation.py:73: DataConversionWarning: A column-vector y was passed when a 1d array was expected. Please change the shape of y to (n_samples, ), for example using ravel().\n",
      "  return f(**kwargs)\n"
     ]
    },
    {
     "data": {
      "text/plain": [
       "RandomizedSearchCV(cv=5, estimator=LogisticRegression(random_state=0),\n",
       "                   n_iter=200, n_jobs=3,\n",
       "                   param_distributions={'C': <scipy.stats._distn_infrastructure.rv_frozen object at 0x7f73b8824100>,\n",
       "                                        'l1_ratio': [0, 0.25, 0.5, 0.75, 1.0],\n",
       "                                        'penalty': ['elasticnet'],\n",
       "                                        'solver': ['saga']},\n",
       "                   scoring='accuracy', verbose=2)"
      ]
     },
     "execution_count": 26,
     "metadata": {},
     "output_type": "execute_result"
    }
   ],
   "source": [
    "from sklearn.linear_model import LogisticRegression\n",
    "from scipy.stats import expon\n",
    "\n",
    "logistic_clf = LogisticRegression(random_state=0)\n",
    "\n",
    "log_param_dist = dict(C = expon(scale = 1), \n",
    "                      penalty = [\"elasticnet\"],\n",
    "                      solver = [\"saga\"],\n",
    "                      l1_ratio = [0, .25, .50, .75, 1.])\n",
    "\n",
    "log_search = RandomizedSearchCV(logistic_clf, param_distributions=log_param_dist, n_iter = 200,\n",
    "                                 cv = 5, scoring = \"accuracy\", verbose = 2, n_jobs = 3)\n",
    "\n",
    "log_search.fit(X_train_prepared, y_train)"
   ]
  },
  {
   "cell_type": "code",
   "execution_count": 27,
   "metadata": {},
   "outputs": [
    {
     "name": "stdout",
     "output_type": "stream",
     "text": [
      "Accuracy: 0.7980101688531794 {'C': 0.4182091869194073, 'l1_ratio': 1.0, 'penalty': 'elasticnet', 'solver': 'saga'}\n",
      "Accuracy: 0.7980038917833155 {'C': 0.3487157245629605, 'l1_ratio': 0.75, 'penalty': 'elasticnet', 'solver': 'saga'}\n",
      "Accuracy: 0.7980101688531793 {'C': 0.7432221312837455, 'l1_ratio': 1.0, 'penalty': 'elasticnet', 'solver': 'saga'}\n",
      "Accuracy: 0.7957692549118072 {'C': 0.4148306092424976, 'l1_ratio': 0.5, 'penalty': 'elasticnet', 'solver': 'saga'}\n",
      "Accuracy: 0.7833783190006904 {'C': 0.0330645012764414, 'l1_ratio': 1.0, 'penalty': 'elasticnet', 'solver': 'saga'}\n",
      "Accuracy: 0.7957692549118072 {'C': 0.4201801770477599, 'l1_ratio': 0, 'penalty': 'elasticnet', 'solver': 'saga'}\n",
      "Accuracy: 0.7980038917833155 {'C': 0.38245014787445836, 'l1_ratio': 0.75, 'penalty': 'elasticnet', 'solver': 'saga'}\n",
      "Accuracy: 0.7923921913250894 {'C': 0.16594559204155074, 'l1_ratio': 0.75, 'penalty': 'elasticnet', 'solver': 'saga'}\n",
      "Accuracy: 0.7991149331492059 {'C': 0.0553041871407181, 'l1_ratio': 0, 'penalty': 'elasticnet', 'solver': 'saga'}\n",
      "Accuracy: 0.7980101688531793 {'C': 0.6761682122664077, 'l1_ratio': 0.75, 'penalty': 'elasticnet', 'solver': 'saga'}\n",
      "0.8002510827945516 LogisticRegression(C=0.13298538674399357, l1_ratio=0, penalty='elasticnet',\n",
      "                   random_state=0, solver='saga')\n"
     ]
    }
   ],
   "source": [
    "log_results = log_search.cv_results_\n",
    "\n",
    "for acc, params in zip(log_results[\"mean_test_score\"][:10], log_results[\"params\"][:10]):\n",
    "    print(\"Accuracy:\", acc, params)\n",
    "    \n",
    "print(log_search.best_score_, log_search.best_estimator_)"
   ]
  },
  {
   "cell_type": "code",
   "execution_count": 28,
   "metadata": {},
   "outputs": [
    {
     "name": "stdout",
     "output_type": "stream",
     "text": [
      "Fitting 5 folds for each of 200 candidates, totalling 1000 fits\n"
     ]
    },
    {
     "name": "stderr",
     "output_type": "stream",
     "text": [
      "[Parallel(n_jobs=3)]: Using backend LokyBackend with 3 concurrent workers.\n",
      "[Parallel(n_jobs=3)]: Done 178 tasks      | elapsed:    1.3s\n",
      "[Parallel(n_jobs=3)]: Done 1000 out of 1000 | elapsed:    6.8s finished\n",
      "/home/evan/anaconda3/lib/python3.8/site-packages/sklearn/utils/validation.py:73: DataConversionWarning: A column-vector y was passed when a 1d array was expected. Please change the shape of y to (n_samples, ), for example using ravel().\n",
      "  return f(**kwargs)\n"
     ]
    },
    {
     "data": {
      "text/plain": [
       "RandomizedSearchCV(cv=5, estimator=SVC(random_state=0), n_iter=200, n_jobs=3,\n",
       "                   param_distributions={'C': <scipy.stats._distn_infrastructure.rv_frozen object at 0x7f73ae86d4f0>,\n",
       "                                        'gamma': ['scale', 'auto'],\n",
       "                                        'kernel': ['linear', 'poly', 'rbf']},\n",
       "                   scoring='accuracy', verbose=2)"
      ]
     },
     "execution_count": 28,
     "metadata": {},
     "output_type": "execute_result"
    }
   ],
   "source": [
    "# SVM Model\n",
    "from sklearn.svm import SVC\n",
    "\n",
    "svm_clf = SVC(random_state=0)\n",
    "\n",
    "svc_param_dist = dict(C = expon(loc = 1, scale = 1.0),\n",
    "                     kernel = [\"linear\", \"poly\", \"rbf\"],\n",
    "                     gamma = [\"scale\", \"auto\"])\n",
    "\n",
    "svc_search = RandomizedSearchCV(svm_clf, param_distributions=svc_param_dist, n_iter = 200,\n",
    "                                 cv = 5, scoring = \"accuracy\", verbose = 2, n_jobs = 3)\n",
    "\n",
    "svc_search.fit(X_train_prepared, y_train)"
   ]
  },
  {
   "cell_type": "code",
   "execution_count": 29,
   "metadata": {},
   "outputs": [
    {
     "name": "stdout",
     "output_type": "stream",
     "text": [
      "Accuracy: 0.7878601468834348 {'C': 1.053524906537541, 'gamma': 'scale', 'kernel': 'linear'}\n",
      "Accuracy: 0.827154604230745 {'C': 1.0219678178402458, 'gamma': 'auto', 'kernel': 'rbf'}\n",
      "Accuracy: 0.8215805661917017 {'C': 1.5742270258035438, 'gamma': 'auto', 'kernel': 'poly'}\n",
      "Accuracy: 0.8148703785073128 {'C': 1.3125468501709827, 'gamma': 'auto', 'kernel': 'poly'}\n",
      "Accuracy: 0.7878601468834348 {'C': 4.36617857574418, 'gamma': 'scale', 'kernel': 'linear'}\n",
      "Accuracy: 0.8181909484652564 {'C': 2.8537256615372106, 'gamma': 'scale', 'kernel': 'poly'}\n",
      "Accuracy: 0.7878601468834348 {'C': 4.234081702512195, 'gamma': 'scale', 'kernel': 'linear'}\n",
      "Accuracy: 0.7878601468834348 {'C': 2.3638643242747, 'gamma': 'scale', 'kernel': 'linear'}\n",
      "Accuracy: 0.7878601468834348 {'C': 1.1772098981942434, 'gamma': 'scale', 'kernel': 'linear'}\n",
      "Accuracy: 0.8215554579122466 {'C': 3.8263234935385295, 'gamma': 'scale', 'kernel': 'rbf'}\n",
      "0.8338899001945892 SVC(C=1.0882788024102852, random_state=0)\n"
     ]
    }
   ],
   "source": [
    "svc_results = svc_search.cv_results_\n",
    "\n",
    "for acc, params in zip(svc_results[\"mean_test_score\"][:10], svc_results[\"params\"][:10]):\n",
    "    print(\"Accuracy:\", acc, params)\n",
    "    \n",
    "print(svc_search.best_score_, svc_search.best_estimator_)"
   ]
  },
  {
   "cell_type": "code",
   "execution_count": 30,
   "metadata": {},
   "outputs": [
    {
     "data": {
      "image/png": "[encoded data removed]",
      "text/plain": [
       "<Figure size 576x288 with 1 Axes>"
      ]
     },
     "metadata": {
      "needs_background": "light"
     },
     "output_type": "display_data"
    }
   ],
   "source": [
    "logistic_scores = np.array(log_results[\"mean_test_score\"])\n",
    "log_scores = logistic_scores[np.logical_not(np.isnan(logistic_scores))]\n",
    "rf_scores = np.array(rf_results[\"mean_test_score\"])\n",
    "svc_scores = np.array(svc_results[\"mean_test_score\"])\n",
    "\n",
    "plt.figure(figsize=(8, 4))\n",
    "plt.plot([1]*len(log_scores), log_scores, \".\")\n",
    "plt.plot([2]*len(rf_scores), rf_scores, \".\")\n",
    "plt.plot([3]*len(svc_scores), svc_scores, \".\")\n",
    "plt.boxplot([log_scores, rf_scores, svc_scores], labels=(\"Logistic\",\"Random Forest\", \"SVC\"))\n",
    "plt.title(\"Comparing the Accuracies of Our Three Model Types\")\n",
    "plt.ylabel(\"Accuracy\", fontsize=14)\n",
    "plt.show()"
   ]
  },
  {
   "cell_type": "markdown",
   "metadata": {},
   "source": [
    "So, we topped out at around 80% accuracy for all of our models. That is not bad for a first crack. I'll come back later to try to improve the models used and perhaps use better attributes. For now, let's just produce the predictions on the test set:"
   ]
  },
  {
   "cell_type": "code",
   "execution_count": 35,
   "metadata": {},
   "outputs": [
    {
     "name": "stderr",
     "output_type": "stream",
     "text": [
      "/home/evan/anaconda3/lib/python3.8/site-packages/sklearn/utils/validation.py:73: DataConversionWarning: A column-vector y was passed when a 1d array was expected. Please change the shape of y to (n_samples, ), for example using ravel().\n",
      "  return f(**kwargs)\n",
      "<ipython-input-35-6773ecf37d72>:11: DataConversionWarning: A column-vector y was passed when a 1d array was expected. Please change the shape of y to (n_samples,), for example using ravel().\n",
      "  best_rforest.fit(X_train_prepared, y_train)\n",
      "/home/evan/anaconda3/lib/python3.8/site-packages/sklearn/utils/validation.py:73: DataConversionWarning: A column-vector y was passed when a 1d array was expected. Please change the shape of y to (n_samples, ), for example using ravel().\n",
      "  return f(**kwargs)\n"
     ]
    }
   ],
   "source": [
    "# Process the test data\n",
    "X_test_prepared = full_pipeline.transform(test)\n",
    "\n",
    "# Use our best model parameters\n",
    "best_log = LogisticRegression(**log_search.best_params_)\n",
    "best_rforest = RandomForestClassifier(**forest_search.best_params_)\n",
    "best_svc = SVC(**svc_search.best_params_)\n",
    "\n",
    "# Fit the models\n",
    "best_log.fit(X_train_prepared, y_train)\n",
    "best_rforest.fit(X_train_prepared, y_train)\n",
    "best_svc.fit(X_train_prepared, y_train)\n",
    "\n",
    "# Create our three sets of predictions\n",
    "log_test_preds = best_log.predict(X_test_prepared)\n",
    "rf_test_preds  = best_rforest.predict(X_test_prepared)\n",
    "svc_test_preds = best_svc.predict(X_test_prepared)"
   ]
  },
  {
   "cell_type": "code",
   "execution_count": 36,
   "metadata": {},
   "outputs": [
    {
     "name": "stdout",
     "output_type": "stream",
     "text": [
      "[0 0 0 0 1] [0 0 0 0 0] [0 1 0 0 0]\n"
     ]
    }
   ],
   "source": [
    "print(log_test_preds[:5], rf_test_preds[:5], svc_test_preds[:5])"
   ]
  }
 ],
 "metadata": {
  "kernelspec": {
   "display_name": "Python 3",
   "language": "python",
   "name": "python3"
  },
  "language_info": {
   "codemirror_mode": {
    "name": "ipython",
    "version": 3
   },
   "file_extension": ".py",
   "mimetype": "text/x-python",
   "name": "python",
   "nbconvert_exporter": "python",
   "pygments_lexer": "ipython3",
   "version": "3.8.3"
  }
 },
 "nbformat": 4,
 "nbformat_minor": 4
}
